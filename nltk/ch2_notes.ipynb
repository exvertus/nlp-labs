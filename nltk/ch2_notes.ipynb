{
 "cells": [
  {
   "cell_type": "markdown",
   "id": "26b837e0-074d-4f99-8ad9-d8e5fc2aa232",
   "metadata": {},
   "source": [
    "## Accessing Text Corpora and Lexical Resources"
   ]
  },
  {
   "cell_type": "markdown",
   "id": "3bdc30f1-fc0d-4377-9a1c-1a8d9ec61fe0",
   "metadata": {},
   "source": [
    "### Selected Corpora"
   ]
  },
  {
   "cell_type": "markdown",
   "id": "b1eb2d0a-5ef3-4ad6-8dc4-4d89413e4fb4",
   "metadata": {},
   "source": [
    "#### Gutenberg Corpus"
   ]
  },
  {
   "cell_type": "code",
   "execution_count": 1,
   "id": "6f6e1826-31e1-4ede-8a8a-f964268a70a3",
   "metadata": {},
   "outputs": [
    {
     "data": {
      "text/plain": [
       "['austen-emma.txt',\n",
       " 'austen-persuasion.txt',\n",
       " 'austen-sense.txt',\n",
       " 'bible-kjv.txt',\n",
       " 'blake-poems.txt',\n",
       " 'bryant-stories.txt',\n",
       " 'burgess-busterbrown.txt',\n",
       " 'carroll-alice.txt',\n",
       " 'chesterton-ball.txt',\n",
       " 'chesterton-brown.txt',\n",
       " 'chesterton-thursday.txt',\n",
       " 'edgeworth-parents.txt',\n",
       " 'melville-moby_dick.txt',\n",
       " 'milton-paradise.txt',\n",
       " 'shakespeare-caesar.txt',\n",
       " 'shakespeare-hamlet.txt',\n",
       " 'shakespeare-macbeth.txt',\n",
       " 'whitman-leaves.txt']"
      ]
     },
     "execution_count": 1,
     "metadata": {},
     "output_type": "execute_result"
    }
   ],
   "source": [
    "import nltk\n",
    "from nltk.corpus import gutenberg\n",
    "gutenberg.fileids()"
   ]
  },
  {
   "cell_type": "code",
   "execution_count": 2,
   "id": "7037d096-d85a-4447-80f9-922218790abe",
   "metadata": {},
   "outputs": [
    {
     "name": "stdout",
     "output_type": "stream",
     "text": [
      "<class 'nltk.corpus.reader.util.StreamBackedCorpusView'>\n"
     ]
    },
    {
     "data": {
      "text/plain": [
       "192427"
      ]
     },
     "execution_count": 2,
     "metadata": {},
     "output_type": "execute_result"
    }
   ],
   "source": [
    "emma = nltk.corpus.gutenberg.words('austen-emma.txt')\n",
    "print(type(emma))\n",
    "len(emma)"
   ]
  },
  {
   "cell_type": "code",
   "execution_count": 3,
   "id": "d8d5a304-b759-4d0e-b282-ae85560091a1",
   "metadata": {},
   "outputs": [
    {
     "name": "stdout",
     "output_type": "stream",
     "text": [
      "5 25 26 austen-emma.txt 192427\n",
      "5 26 17 austen-persuasion.txt 98171\n",
      "5 28 22 austen-sense.txt 141576\n",
      "4 34 79 bible-kjv.txt 1010654\n",
      "5 19 5 blake-poems.txt 8354\n",
      "4 19 14 bryant-stories.txt 55563\n",
      "4 18 12 burgess-busterbrown.txt 18963\n",
      "4 20 13 carroll-alice.txt 34110\n",
      "5 20 12 chesterton-ball.txt 96996\n",
      "5 23 11 chesterton-brown.txt 86063\n",
      "5 18 11 chesterton-thursday.txt 69213\n",
      "4 21 25 edgeworth-parents.txt 210663\n",
      "5 26 15 melville-moby_dick.txt 260819\n",
      "5 52 11 milton-paradise.txt 96825\n",
      "4 12 9 shakespeare-caesar.txt 25833\n",
      "4 12 8 shakespeare-hamlet.txt 37360\n",
      "4 12 7 shakespeare-macbeth.txt 23140\n",
      "5 36 12 whitman-leaves.txt 154883\n"
     ]
    }
   ],
   "source": [
    "for fileid in gutenberg.fileids():\n",
    "    words = gutenberg.words(fileid)\n",
    "    total_len = len(words)\n",
    "    num_chars = len(gutenberg.raw(fileid))\n",
    "    num_words = len(words)\n",
    "    num_sents = len(gutenberg.sents(fileid))\n",
    "    num_vocab = len(set(w.lower() for w in gutenberg.words(fileid)))\n",
    "    print(round(num_chars/num_words), round(num_words/num_sents), round(num_words/num_vocab), fileid, total_len)"
   ]
  },
  {
   "cell_type": "markdown",
   "id": "e00726b2-4577-4b3a-9007-0c4369c37fcd",
   "metadata": {},
   "source": [
    "Finding the longest sentence in a text:"
   ]
  },
  {
   "cell_type": "code",
   "execution_count": 4,
   "id": "12a274ee-866b-46e8-a165-1d34669622f5",
   "metadata": {},
   "outputs": [
    {
     "name": "stdout",
     "output_type": "stream",
     "text": [
      "1\n"
     ]
    },
    {
     "data": {
      "text/plain": [
       "\"Doubtfull it stood , As two spent Swimmers , that doe cling together , And choake their Art : The mercilesse Macdonwald ( Worthie to be a Rebell , for to that The multiplying Villanies of Nature Doe swarme vpon him ) from the Westerne Isles Of Kernes and Gallowgrosses is supply ' d , And Fortune on his damned Quarry smiling , Shew ' d like a Rebells Whore : but all ' s too weake : For braue Macbeth ( well hee deserues that Name ) Disdayning Fortune , with his brandisht Steele , Which smoak ' d with bloody execution ( Like Valours Minion ) caru ' d out his passage , Till hee fac ' d the Slaue : Which neu ' r shooke hands , nor bad farwell to him , Till he vnseam ' d him from the Naue toth ' Chops , And fix ' d his Head vpon our Battlements\""
      ]
     },
     "execution_count": 4,
     "metadata": {},
     "output_type": "execute_result"
    }
   ],
   "source": [
    "macbeth_sents = gutenberg.sents('shakespeare-macbeth.txt')\n",
    "longest_len = max(len(s) for s in macbeth_sents)\n",
    "longest_sents = [s for s in macbeth_sents if len(s) >= longest_len]\n",
    "print(len(longest_sents))\n",
    "' '.join(longest_sents[0])"
   ]
  },
  {
   "cell_type": "markdown",
   "id": "728c7aa9-2576-4731-8ece-834f75b754b8",
   "metadata": {},
   "source": [
    "#### Web and Chat Text\n",
    "- Firefox discussion forums\n",
    "- conversations overheard in New York\n",
    "- Pirates of the Carribean script\n",
    "- personal ads\n",
    "- wine reviews"
   ]
  },
  {
   "cell_type": "code",
   "execution_count": 5,
   "id": "95132fba-6b59-42ac-9ab1-b16df5011587",
   "metadata": {},
   "outputs": [
    {
     "name": "stdout",
     "output_type": "stream",
     "text": [
      "firefox.txt Cookie Manager: \"Don't allow sites that set removed cookies to se ...\n",
      "grail.txt SCENE 1: [wind] [clop clop clop] \n",
      "KING ARTHUR: Whoa there!  [clop ...\n",
      "overheard.txt White guy: So, do you have any plans for this evening?\n",
      "Asian girl ...\n",
      "pirates.txt PIRATES OF THE CARRIBEAN: DEAD MAN'S CHEST, by Ted Elliott & Terr ...\n",
      "singles.txt 25 SEXY MALE, seeks attrac older single lady, for discreet encoun ...\n",
      "wine.txt Lovely delicate, fragrant Rhone wine. Polished leather and strawb ...\n"
     ]
    }
   ],
   "source": [
    "from nltk.corpus import webtext\n",
    "for fileid in webtext.fileids():\n",
    "    print(fileid, webtext.raw(fileid)[:65], '...')"
   ]
  },
  {
   "cell_type": "code",
   "execution_count": 6,
   "id": "51f0fe20-084d-4c59-a9c2-3a191c6d2c2c",
   "metadata": {},
   "outputs": [
    {
     "data": {
      "text/plain": [
       "['i',\n",
       " 'do',\n",
       " \"n't\",\n",
       " 'want',\n",
       " 'hot',\n",
       " 'pics',\n",
       " 'of',\n",
       " 'a',\n",
       " 'female',\n",
       " ',',\n",
       " 'I',\n",
       " 'can',\n",
       " 'look',\n",
       " 'in',\n",
       " 'a',\n",
       " 'mirror',\n",
       " '.']"
      ]
     },
     "execution_count": 6,
     "metadata": {},
     "output_type": "execute_result"
    }
   ],
   "source": [
    "from nltk.corpus import nps_chat\n",
    "chatroom = nps_chat.posts('10-19-20s_706posts.xml')\n",
    "chatroom[123]"
   ]
  },
  {
   "cell_type": "markdown",
   "id": "45441114-0cd4-40a9-a34a-8c68e506e15e",
   "metadata": {},
   "source": [
    "#### The Brown Corpus\n",
    "The first electronic corpus >= a million words.  \n",
    "It was created in 1961."
   ]
  },
  {
   "cell_type": "code",
   "execution_count": 7,
   "id": "43107e32-30db-493f-b261-46d38c0780dc",
   "metadata": {},
   "outputs": [
    {
     "data": {
      "text/plain": [
       "['adventure',\n",
       " 'belles_lettres',\n",
       " 'editorial',\n",
       " 'fiction',\n",
       " 'government',\n",
       " 'hobbies',\n",
       " 'humor',\n",
       " 'learned',\n",
       " 'lore',\n",
       " 'mystery',\n",
       " 'news',\n",
       " 'religion',\n",
       " 'reviews',\n",
       " 'romance',\n",
       " 'science_fiction']"
      ]
     },
     "execution_count": 7,
     "metadata": {},
     "output_type": "execute_result"
    }
   ],
   "source": [
    "from nltk.corpus import brown\n",
    "brown.categories()"
   ]
  },
  {
   "cell_type": "code",
   "execution_count": 8,
   "id": "10b520a2-39ce-40ef-bdc1-609bc22e601b",
   "metadata": {},
   "outputs": [
    {
     "data": {
      "text/plain": [
       "['The', 'Fulton', 'County', 'Grand', 'Jury', 'said', ...]"
      ]
     },
     "execution_count": 8,
     "metadata": {},
     "output_type": "execute_result"
    }
   ],
   "source": [
    "brown.words(categories='news')"
   ]
  },
  {
   "cell_type": "code",
   "execution_count": 9,
   "id": "4e3e48d7-cd93-4bea-b49a-7d0c772aef14",
   "metadata": {},
   "outputs": [
    {
     "data": {
      "text/plain": [
       "['Romantic', 'news', 'concerns', 'Mrs.', 'Joan', ...]"
      ]
     },
     "execution_count": 9,
     "metadata": {},
     "output_type": "execute_result"
    }
   ],
   "source": [
    "brown.words(fileids=['ca16'])"
   ]
  },
  {
   "cell_type": "code",
   "execution_count": 10,
   "id": "b6cbffd8-7824-4ce8-8701-f25f28115528",
   "metadata": {},
   "outputs": [
    {
     "data": {
      "text/plain": [
       "[['The', 'Fulton', 'County', 'Grand', 'Jury', 'said', 'Friday', 'an', 'investigation', 'of', \"Atlanta's\", 'recent', 'primary', 'election', 'produced', '``', 'no', 'evidence', \"''\", 'that', 'any', 'irregularities', 'took', 'place', '.'], ['The', 'jury', 'further', 'said', 'in', 'term-end', 'presentments', 'that', 'the', 'City', 'Executive', 'Committee', ',', 'which', 'had', 'over-all', 'charge', 'of', 'the', 'election', ',', '``', 'deserves', 'the', 'praise', 'and', 'thanks', 'of', 'the', 'City', 'of', 'Atlanta', \"''\", 'for', 'the', 'manner', 'in', 'which', 'the', 'election', 'was', 'conducted', '.'], ...]"
      ]
     },
     "execution_count": 10,
     "metadata": {},
     "output_type": "execute_result"
    }
   ],
   "source": [
    "brown.sents(categories=['news', 'editorial', 'reviews'])"
   ]
  },
  {
   "cell_type": "markdown",
   "id": "c70de438-862b-480b-ae6f-ca80b3c65bba",
   "metadata": {},
   "source": [
    "The study of systematic differences between genres is known as **stylistics**.  \n",
    "Some basic stylistic analysis:"
   ]
  },
  {
   "cell_type": "code",
   "execution_count": 13,
   "id": "b409e493-d901-407c-993a-e8bf79af0041",
   "metadata": {},
   "outputs": [
    {
     "name": "stdout",
     "output_type": "stream",
     "text": [
      "can: 94\n",
      "could: 87\n",
      "may: 93\n",
      "might: 38\n",
      "must: 53\n",
      "will: 389\n",
      "who: 268\n",
      "what: 95\n",
      "when: 169\n",
      "where: 59\n",
      "why: 14\n",
      "how: 42\n"
     ]
    }
   ],
   "source": [
    "news_text = brown.words(categories='news')\n",
    "news_fdist = nltk.FreqDist(w.lower() for w in news_text)\n",
    "modals = ['can', 'could', 'may', 'might', 'must', 'will']\n",
    "q_words = ['who', 'what', 'when', 'where', 'why', 'how']\n",
    "for m in modals:\n",
    "    print(f\"{m}: {news_fdist[m]}\")\n",
    "for q in q_words:\n",
    "    print(f\"{q}: {news_fdist[q]}\")"
   ]
  },
  {
   "cell_type": "code",
   "execution_count": 15,
   "id": "043a2e35-fe23-45ed-829d-06ede45db86b",
   "metadata": {},
   "outputs": [
    {
     "name": "stdout",
     "output_type": "stream",
     "text": [
      "                  can could   may might  must  will \n",
      "           news    93    86    66    38    50   389 \n",
      "       religion    82    59    78    12    54    71 \n",
      "        hobbies   268    58   131    22    83   264 \n",
      "science_fiction    16    49     4    12     8    16 \n",
      "        romance    74   193    11    51    45    43 \n",
      "          humor    16    30     8     8     9    13 \n"
     ]
    }
   ],
   "source": [
    "conditional_f_dist = nltk.ConditionalFreqDist(\n",
    "    (genre, word)\n",
    "    for genre in brown.categories()\n",
    "    for word in brown.words(categories=genre))\n",
    "genres = ['news', 'religion', 'hobbies', 'science_fiction', 'romance', 'humor']\n",
    "modals = ['can', 'could', 'may', 'might', 'must', 'will']\n",
    "conditional_f_dist.tabulate(conditions=genres, samples=modals)"
   ]
  },
  {
   "cell_type": "markdown",
   "id": "9f548629-adf1-4357-9680-1d39ed8e6cdb",
   "metadata": {},
   "source": [
    "#### Reuters Corpus\n",
    "News documents organized into 90 overlapping topics, totaling 1.3m words.  \n",
    "Split by training and test data (for training on guessing the correct topics)."
   ]
  },
  {
   "cell_type": "code",
   "execution_count": 18,
   "id": "c487a7bc-97ab-4690-83df-d52752843b36",
   "metadata": {},
   "outputs": [
    {
     "data": {
      "text/plain": [
       "['test/14826', 'test/14828', 'test/14829', 'test/14832', 'test/14833']"
      ]
     },
     "execution_count": 18,
     "metadata": {},
     "output_type": "execute_result"
    }
   ],
   "source": [
    "from nltk.corpus import reuters\n",
    "reuters.fileids()[:5]"
   ]
  },
  {
   "cell_type": "code",
   "execution_count": 20,
   "id": "be4798b6-76ca-4ddb-936c-718b40e0956f",
   "metadata": {},
   "outputs": [
    {
     "data": {
      "text/plain": [
       "['acq', 'alum', 'barley', 'bop', 'carcass', 'castor-oil', 'cocoa']"
      ]
     },
     "execution_count": 20,
     "metadata": {},
     "output_type": "execute_result"
    }
   ],
   "source": [
    "reuters.categories()[:7]"
   ]
  },
  {
   "cell_type": "code",
   "execution_count": 21,
   "id": "217de1e4-995e-4337-bcc5-3fd7b852f886",
   "metadata": {},
   "outputs": [
    {
     "data": {
      "text/plain": [
       "['barley', 'corn', 'grain', 'wheat']"
      ]
     },
     "execution_count": 21,
     "metadata": {},
     "output_type": "execute_result"
    }
   ],
   "source": [
    "reuters.categories('training/9865')"
   ]
  },
  {
   "cell_type": "code",
   "execution_count": 22,
   "id": "1f6ad591-4d78-4157-a3a9-6619fb5ba0c1",
   "metadata": {},
   "outputs": [
    {
     "data": {
      "text/plain": [
       "['barley', 'corn', 'grain', 'money-fx', 'wheat']"
      ]
     },
     "execution_count": 22,
     "metadata": {},
     "output_type": "execute_result"
    }
   ],
   "source": [
    "reuters.categories(['training/9865', 'training/9880'])"
   ]
  },
  {
   "cell_type": "code",
   "execution_count": 24,
   "id": "4e6f867f-6ab2-4b06-9e44-a602b093d8e3",
   "metadata": {},
   "outputs": [
    {
     "data": {
      "text/plain": [
       "['test/15618', 'test/15649', 'test/15676', 'test/15728', 'test/15871']"
      ]
     },
     "execution_count": 24,
     "metadata": {},
     "output_type": "execute_result"
    }
   ],
   "source": [
    "reuters.fileids('barley')[:5]"
   ]
  },
  {
   "cell_type": "code",
   "execution_count": 26,
   "id": "eecc2354-63b6-47cb-b065-49500b1ebc1f",
   "metadata": {},
   "outputs": [
    {
     "data": {
      "text/plain": [
       "['test/14832', 'test/14858', 'test/15033', 'test/15043', 'test/15106']"
      ]
     },
     "execution_count": 26,
     "metadata": {},
     "output_type": "execute_result"
    }
   ],
   "source": [
    "reuters.fileids(['barley', 'corn'])[:5]"
   ]
  },
  {
   "cell_type": "code",
   "execution_count": 27,
   "id": "7a78ee12-d12a-4686-b9ce-3318b48608f5",
   "metadata": {},
   "outputs": [
    {
     "data": {
      "text/plain": [
       "['FRENCH',\n",
       " 'FREE',\n",
       " 'MARKET',\n",
       " 'CEREAL',\n",
       " 'EXPORT',\n",
       " 'BIDS',\n",
       " 'DETAILED',\n",
       " 'French',\n",
       " 'operators',\n",
       " 'have',\n",
       " 'requested',\n",
       " 'licences',\n",
       " 'to',\n",
       " 'export']"
      ]
     },
     "execution_count": 27,
     "metadata": {},
     "output_type": "execute_result"
    }
   ],
   "source": [
    "reuters.words('training/9865')[:14]"
   ]
  },
  {
   "cell_type": "code",
   "execution_count": 28,
   "id": "6f0d548d-2537-454d-bc96-583843ef4314",
   "metadata": {},
   "outputs": [
    {
     "data": {
      "text/plain": [
       "['FRENCH', 'FREE', 'MARKET', 'CEREAL', 'EXPORT', ...]"
      ]
     },
     "execution_count": 28,
     "metadata": {},
     "output_type": "execute_result"
    }
   ],
   "source": [
    "reuters.words(categories='barley')"
   ]
  },
  {
   "cell_type": "markdown",
   "id": "d8b877c6-759c-4772-ac96-fd6f3ffae175",
   "metadata": {},
   "source": [
    "#### Inaugural Address Corpus\n",
    "Ordered by year."
   ]
  },
  {
   "cell_type": "code",
   "execution_count": 32,
   "id": "e4ffbc33-e06c-4969-991e-70b1b2f807f7",
   "metadata": {},
   "outputs": [
    {
     "name": "stdout",
     "output_type": "stream",
     "text": [
      "['1789-Washington.txt', '1793-Washington.txt', '1797-Adams.txt', '1801-Jefferson.txt']\n",
      "['2009-Obama.txt', '2013-Obama.txt', '2017-Trump.txt', '2021-Biden.txt']\n"
     ]
    }
   ],
   "source": [
    "from nltk.corpus import inaugural\n",
    "print(inaugural.fileids()[:4])\n",
    "print(inaugural.fileids()[-4:])"
   ]
  },
  {
   "cell_type": "code",
   "execution_count": 37,
   "id": "559e8f02-46e4-437a-b2c9-0128903a7a2f",
   "metadata": {},
   "outputs": [
    {
     "data": {
      "text/plain": [
       "<Axes: xlabel='Samples', ylabel='Counts'>"
      ]
     },
     "execution_count": 37,
     "metadata": {},
     "output_type": "execute_result"
    },
    {
     "data": {
      "image/png": "[encoded data removed]",
      "text/plain": [
       "<Figure size 640x480 with 1 Axes>"
      ]
     },
     "metadata": {},
     "output_type": "display_data"
    }
   ],
   "source": [
    "ia_cfd = nltk.ConditionalFreqDist(\n",
    "    (target, fileid[:4])\n",
    "    for fileid in inaugural.fileids()\n",
    "    for w in inaugural.words(fileid)\n",
    "    for target in ['liberty', 'freedom', 'jobs', 'economy']\n",
    "    if w.lower().startswith(target))\n",
    "ia_cfd.plot()"
   ]
  },
  {
   "cell_type": "markdown",
   "id": "021fee0a-41b5-474d-b2c4-c30fe30c62f6",
   "metadata": {},
   "source": [
    "#### Corpora in other languages"
   ]
  },
  {
   "cell_type": "code",
   "execution_count": null,
   "id": "d4c1ca29-4d75-48a2-8a48-ceb60cba62b9",
   "metadata": {},
   "outputs": [],
   "source": []
  }
 ],
 "metadata": {
  "kernelspec": {
   "display_name": "Python 3 (ipykernel)",
   "language": "python",
   "name": "python3"
  },
  "language_info": {
   "codemirror_mode": {
    "name": "ipython",
    "version": 3
   },
   "file_extension": ".py",
   "mimetype": "text/x-python",
   "name": "python",
   "nbconvert_exporter": "python",
   "pygments_lexer": "ipython3",
   "version": "3.11.11"
  }
 },
 "nbformat": 4,
 "nbformat_minor": 5
}
