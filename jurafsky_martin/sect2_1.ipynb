{
 "cells": [
  {
   "cell_type": "markdown",
   "id": "8e8b713f-4df5-4796-8ba4-50e99524262e",
   "metadata": {},
   "source": [
    "## Speech and Language Processing\n",
    "### Dan Jurafsky and James Martin\n",
    "\n",
    "#### [Section 2.1: Regular Expressions](https://web.stanford.edu/~jurafsky/slp3/2.pdf)"
   ]
  },
  {
   "cell_type": "markdown",
   "id": "1b38d2af-ee69-43bb-b4d3-7925eff0b9e5",
   "metadata": {},
   "source": [
    "##### Basic regex pattern matching:"
   ]
  },
  {
   "cell_type": "code",
   "execution_count": 1,
   "id": "8f29c8e6-8fc5-4fe9-ba4b-46ba981c0386",
   "metadata": {},
   "outputs": [
    {
     "name": "stdout",
     "output_type": "stream",
     "text": [
      "<re.Match object; span=(21, 31), match='woodchucks'>\n"
     ]
    }
   ],
   "source": [
    "import re\n",
    "\n",
    "print(re.search(\"woodchucks\", \"interesting links to woodchucks and lemurs\"))"
   ]
  },
  {
   "cell_type": "code",
   "execution_count": 2,
   "id": "f639cfc4-6e9c-404c-8bb7-822c98c3db48",
   "metadata": {},
   "outputs": [
    {
     "data": {
      "text/plain": [
       "<re.Match object; span=(1, 2), match='a'>"
      ]
     },
     "execution_count": 2,
     "metadata": {},
     "output_type": "execute_result"
    }
   ],
   "source": [
    "re.search(\"a\", \"Mary Ann stopped by Mona’s\")"
   ]
  },
  {
   "cell_type": "code",
   "execution_count": 3,
   "id": "d3c69a3b-697a-4ddb-b827-81516098472b",
   "metadata": {},
   "outputs": [
    {
     "data": {
      "text/plain": [
       "<re.Match object; span=(37, 38), match='!'>"
      ]
     },
     "execution_count": 3,
     "metadata": {},
     "output_type": "execute_result"
    }
   ],
   "source": [
    "re.search(\"!\", \"\"\"\"You've left the burglar behind again!\" said Nori\"\"\")"
   ]
  },
  {
   "cell_type": "code",
   "execution_count": 4,
   "id": "cc778964-f0d3-48d3-80d1-07be11dfe2cc",
   "metadata": {},
   "outputs": [
    {
     "name": "stdout",
     "output_type": "stream",
     "text": [
      "None\n"
     ]
    }
   ],
   "source": [
    "print(re.search(\"woodchuck\", \"There Were Woodchucks\"))"
   ]
  },
  {
   "cell_type": "code",
   "execution_count": 5,
   "id": "ca4ee596-db7d-487e-89dc-5699f1557321",
   "metadata": {},
   "outputs": [
    {
     "data": {
      "text/plain": [
       "<re.Match object; span=(11, 20), match='Woodchuck'>"
      ]
     },
     "execution_count": 5,
     "metadata": {},
     "output_type": "execute_result"
    }
   ],
   "source": [
    "re.search(\"[Ww]oodchuck\", \"There Were Woodchucks\")"
   ]
  },
  {
   "cell_type": "code",
   "execution_count": 6,
   "id": "3ddb83f5-7e03-49f1-87fb-52023b071ef7",
   "metadata": {},
   "outputs": [
    {
     "data": {
      "text/plain": [
       "<re.Match object; span=(18, 19), match='a'>"
      ]
     },
     "execution_count": 6,
     "metadata": {},
     "output_type": "execute_result"
    }
   ],
   "source": [
    "re.search(\"[abc]\", \"In uomini, in soldati\")"
   ]
  },
  {
   "cell_type": "code",
   "execution_count": 7,
   "id": "94c0ea6e-25a3-4df9-a679-9579b023d92e",
   "metadata": {},
   "outputs": [
    {
     "data": {
      "text/plain": [
       "['9', '5']"
      ]
     },
     "execution_count": 7,
     "metadata": {},
     "output_type": "execute_result"
    }
   ],
   "source": [
    "re.findall(\"[1234567890]\", \"traditional 9 to 5\")"
   ]
  },
  {
   "cell_type": "markdown",
   "id": "ffb3f90e-f32b-4b65-9ba3-3a8c7cb8f9b0",
   "metadata": {},
   "source": [
    "Ranges:"
   ]
  },
  {
   "cell_type": "code",
   "execution_count": 8,
   "id": "b672a9f1-68b8-416f-9820-a3f5c86dd6fb",
   "metadata": {},
   "outputs": [
    {
     "data": {
      "text/plain": [
       "['C', 'A', 'T', 'S']"
      ]
     },
     "execution_count": 8,
     "metadata": {},
     "output_type": "execute_result"
    }
   ],
   "source": [
    "re.findall(\"[A-Z]\", \"Creatures that are Always Tired and Sleepy\")"
   ]
  },
  {
   "cell_type": "code",
   "execution_count": 9,
   "id": "b21b2f11-d3be-43b8-8c30-1c84ce7f4dfe",
   "metadata": {},
   "outputs": [
    {
     "data": {
      "text/plain": [
       "['h', 'e', 'a', 'i', 'n', 't']"
      ]
     },
     "execution_count": 9,
     "metadata": {},
     "output_type": "execute_result"
    }
   ],
   "source": [
    "re.findall(\"[a-z]\", \"The Saint\")"
   ]
  },
  {
   "cell_type": "code",
   "execution_count": 10,
   "id": "3dfd34e5-8bcd-4bff-9bbc-d1b294781f0d",
   "metadata": {},
   "outputs": [
    {
     "data": {
      "text/plain": [
       "['2', '2', '3']"
      ]
     },
     "execution_count": 10,
     "metadata": {},
     "output_type": "execute_result"
    }
   ],
   "source": [
    "re.findall(\"[0-9]\", \"Chapter 2: Figure 2.3\")"
   ]
  },
  {
   "cell_type": "markdown",
   "id": "a256742d-852c-49a4-88e0-529351ce7ba0",
   "metadata": {},
   "source": [
    "Within brackets, the caret (^) preceding a pattern means \"not\":"
   ]
  },
  {
   "cell_type": "code",
   "execution_count": 11,
   "id": "e82fcd73-d031-40e4-b3e3-9f94df378636",
   "metadata": {},
   "outputs": [
    {
     "name": "stdout",
     "output_type": "stream",
     "text": [
      "['D', 'o', ' ', 'y', 'o', 'u', ' ', 'l', 'i', 'k', 'e', ' ', 'A', 'b', 'b', '?']\n"
     ]
    }
   ],
   "source": [
    "print(re.findall(\"[^a]\", \"Do you like Abba?\"))"
   ]
  },
  {
   "cell_type": "code",
   "execution_count": 12,
   "id": "757f33f6-b003-4113-b00d-848306f83b6d",
   "metadata": {},
   "outputs": [
    {
     "name": "stdout",
     "output_type": "stream",
     "text": [
      "['n', 'l', 'y', ' ', '0', 'w', 'e', 'r', 'c', 'a', 's', 'e', ' ', 'a', 'n', 'd', ' ', '1', 'g', '1', 't', '5']\n"
     ]
    }
   ],
   "source": [
    "print(re.findall(\"[^A-Z]\", \"Only L0wercase and D1g1t5\"))"
   ]
  },
  {
   "cell_type": "code",
   "execution_count": 13,
   "id": "a2aa287b-7e53-4733-8287-27ccd86d0ab3",
   "metadata": {},
   "outputs": [
    {
     "data": {
      "text/plain": [
       "['h', 'h', 'h', '!']"
      ]
     },
     "execution_count": 13,
     "metadata": {},
     "output_type": "execute_result"
    }
   ],
   "source": [
    "re.findall(\"[^sS]\", \"Sssshhh!\")"
   ]
  },
  {
   "cell_type": "markdown",
   "id": "e21523f2-e9d2-4105-a551-e25b5c87a072",
   "metadata": {},
   "source": [
    "For the caret symbol to match itself it must be escaped:"
   ]
  },
  {
   "cell_type": "code",
   "execution_count": 14,
   "id": "96935b9b-9555-40cd-a780-2c2539f60342",
   "metadata": {},
   "outputs": [
    {
     "data": {
      "text/plain": [
       "[]"
      ]
     },
     "execution_count": 14,
     "metadata": {},
     "output_type": "execute_result"
    }
   ],
   "source": [
    "re.findall(\"a^b\", \"a exercise: c = a^b\")"
   ]
  },
  {
   "cell_type": "code",
   "execution_count": 15,
   "id": "44e1bc84-7df9-4785-892c-930c730df39c",
   "metadata": {},
   "outputs": [
    {
     "data": {
      "text/plain": [
       "['2^8']"
      ]
     },
     "execution_count": 15,
     "metadata": {},
     "output_type": "execute_result"
    }
   ],
   "source": [
    "re.findall(\"2\\^8\", \"8-bit bytes have 2^8 possible values\")"
   ]
  },
  {
   "cell_type": "markdown",
   "id": "f5a602dc-820d-4e01-8a89-5c71c12d56f3",
   "metadata": {},
   "source": [
    "You can also \"escape\" it by listing it in a bracket statement where it is not the first character:"
   ]
  },
  {
   "cell_type": "code",
   "execution_count": 16,
   "id": "311663fa-dad9-4377-a604-55a6f9b7a004",
   "metadata": {},
   "outputs": [
    {
     "data": {
      "text/plain": [
       "['e', '^', 'u', 'e', '^', 'e']"
      ]
     },
     "execution_count": 16,
     "metadata": {},
     "output_type": "execute_result"
    }
   ],
   "source": [
    "re.findall(\"[e^u]\", \"e^3 uses ^ and e\")"
   ]
  },
  {
   "cell_type": "markdown",
   "id": "560ce0d2-af04-466a-b9c5-d106d35884a6",
   "metadata": {},
   "source": [
    "The question mark symbolizes optionality for that which precedes it (zero or one of):"
   ]
  },
  {
   "cell_type": "code",
   "execution_count": 17,
   "id": "a66d478f-47b6-4905-b4af-8c2779e46e1a",
   "metadata": {},
   "outputs": [
    {
     "data": {
      "text/plain": [
       "['color', 'colour']"
      ]
     },
     "execution_count": 17,
     "metadata": {},
     "output_type": "execute_result"
    }
   ],
   "source": [
    "re.findall(\"colou?r\", \"is it spelled color or colour?\")"
   ]
  },
  {
   "cell_type": "markdown",
   "id": "29171cea-4d6c-4f48-b4c4-5a8632781399",
   "metadata": {},
   "source": [
    "Use the asterisk (or \"Kleene star\") to symbolize zero or more:"
   ]
  },
  {
   "cell_type": "code",
   "execution_count": 18,
   "id": "d38eb022-a0be-489a-9bde-255c1f0fc3b5",
   "metadata": {},
   "outputs": [
    {
     "data": {
      "text/plain": [
       "['', 'aaaaa', '', '', '']"
      ]
     },
     "execution_count": 18,
     "metadata": {},
     "output_type": "execute_result"
    }
   ],
   "source": [
    "re.findall(\"a*\", \"baaaaah!\")"
   ]
  },
  {
   "cell_type": "code",
   "execution_count": 19,
   "id": "6b36862b-7193-45e3-860f-dc169a202b81",
   "metadata": {},
   "outputs": [
    {
     "name": "stdout",
     "output_type": "stream",
     "text": [
      "['', '', '', '', '', '', '', '', '', '', '', '', '', '', '', '', '', '', '', '', '', '', '', '', '', '', '', '', '', '', '', '', '', '', '', '', '']\n",
      "36\n",
      "37\n"
     ]
    }
   ],
   "source": [
    "text = \"zero or more will find empty strings\"\n",
    "matches = re.findall(\"a*\", text)\n",
    "print(matches)\n",
    "print(len(text))\n",
    "print(len(matches))"
   ]
  },
  {
   "cell_type": "code",
   "execution_count": 20,
   "id": "919858b1-c404-458b-8053-41ed28c69043",
   "metadata": {},
   "outputs": [
    {
     "data": {
      "text/plain": [
       "['aaaaa']"
      ]
     },
     "execution_count": 20,
     "metadata": {},
     "output_type": "execute_result"
    }
   ],
   "source": [
    "re.findall(\"aa*\", \"baaaaah!\")"
   ]
  },
  {
   "cell_type": "code",
   "execution_count": 21,
   "id": "bfc4ceb5-48c1-400e-96b0-318010a3a909",
   "metadata": {},
   "outputs": [
    {
     "data": {
      "text/plain": [
       "['$19.99', '$20.00', '$35.50', '$40.00']"
      ]
     },
     "execution_count": 21,
     "metadata": {},
     "output_type": "execute_result"
    }
   ],
   "source": [
    "re.findall(\"\\$[0-9][0-9]*\\.?[0-9]*\", \"Buy premium prices! I've got $19.99 for $20.00. You can get $35.50 for $40.00.\")"
   ]
  },
  {
   "cell_type": "code",
   "execution_count": 22,
   "id": "664aded8-59e3-4ed2-b820-7fcc7a86ef88",
   "metadata": {},
   "outputs": [
    {
     "data": {
      "text/plain": [
       "['ba', 'ba', 'abba', 'ba', 'a', 'ab', 'a']"
      ]
     },
     "execution_count": 22,
     "metadata": {},
     "output_type": "execute_result"
    }
   ],
   "source": [
    "re.findall(\"[ab][ab]*\", \"bah bah abba balance abstract\")"
   ]
  },
  {
   "cell_type": "markdown",
   "id": "09d9e383-bb65-41fa-a1f9-62636143cb04",
   "metadata": {},
   "source": [
    "Rather than using the form xx* to avoid finding empty strings, you can use the plus sign (or Kleene +), which means \"one or more\":"
   ]
  },
  {
   "cell_type": "code",
   "execution_count": 23,
   "id": "7e19886b-f9e4-4148-9133-19cc70b82712",
   "metadata": {},
   "outputs": [
    {
     "data": {
      "text/plain": [
       "['$1.99', '$7.99', '$16.99']"
      ]
     },
     "execution_count": 23,
     "metadata": {},
     "output_type": "execute_result"
    }
   ],
   "source": [
    "re.findall(\"\\$[0-9]+\\.?[0-9]+\", \"Welcome to Discount Prices. I've got $1.99! I've got $7.99! I've got $16.99!\")"
   ]
  },
  {
   "cell_type": "markdown",
   "id": "7c0b394b-fc4d-48f4-a0ae-92c6700ae570",
   "metadata": {},
   "source": [
    "To match any single character except a carriage-return, use a period:"
   ]
  },
  {
   "cell_type": "code",
   "execution_count": 25,
   "id": "c57b59fc-5b0b-4040-96c6-b635438ee71b",
   "metadata": {},
   "outputs": [
    {
     "data": {
      "text/plain": [
       "['find', 'find', 'f1nd', 'flnd', 'f|nd']"
      ]
     },
     "execution_count": 25,
     "metadata": {},
     "output_type": "execute_result"
    }
   ],
   "source": [
    "re.findall(\"f.nd\", \"\"\"find all but one of the \"find\"s: f1nd flnd f|nd f\n",
    "nd\"\"\")"
   ]
  },
  {
   "cell_type": "code",
   "execution_count": 26,
   "id": "6e556ed9-7efe-44c1-8e20-3f47ce715fba",
   "metadata": {},
   "outputs": [
    {
     "data": {
      "text/plain": [
       "['supercalifragilisticexpialidocious', 'Supercalifragilisticexpialidocious']"
      ]
     },
     "execution_count": 26,
     "metadata": {},
     "output_type": "execute_result"
    }
   ],
   "source": [
    "re.findall(\"[sS]uper.*docious\",\n",
    "\"\"\"It's supercalifragilisticexpialidocious\n",
    "Even though the sound of it is something quite atrocious\n",
    "If you say it loud enough you'll always sound precocious\n",
    "Supercalifragilisticexpialidocious\"\"\")"
   ]
  },
  {
   "cell_type": "markdown",
   "id": "fde55565-02b0-40b6-b2a3-988d63272aed",
   "metadata": {},
   "source": [
    "##### Anchors\n",
    "Anchors symbolize positions within strings."
   ]
  },
  {
   "cell_type": "markdown",
   "id": "8da91d09-3a4d-4cdb-a4e2-48770f016e6e",
   "metadata": {},
   "source": [
    "A caret is overloaded to be used as an achor outside of brackets.  \n",
    "It symbolizes the start of a string:"
   ]
  },
  {
   "cell_type": "code",
   "execution_count": 27,
   "id": "ac7ec21f-4464-4a06-b3f0-dfbfe9b821f7",
   "metadata": {},
   "outputs": [
    {
     "data": {
      "text/plain": [
       "['Well']"
      ]
     },
     "execution_count": 27,
     "metadata": {},
     "output_type": "execute_result"
    }
   ],
   "source": [
    "re.findall(\"^Well\", \"Well met, Well!\")"
   ]
  },
  {
   "cell_type": "markdown",
   "id": "fd84b6ea-0964-40ff-b1fc-96304b41fb4d",
   "metadata": {},
   "source": [
    "The dollar sign symbolizes the end of a string:"
   ]
  },
  {
   "cell_type": "code",
   "execution_count": 28,
   "id": "da391fe8-1cb4-4df2-b65d-38acdd325644",
   "metadata": {},
   "outputs": [
    {
     "data": {
      "text/plain": [
       "['well']"
      ]
     },
     "execution_count": 28,
     "metadata": {},
     "output_type": "execute_result"
    }
   ],
   "source": [
    "re.findall(\"well$\", \"Well, well, well\")"
   ]
  },
  {
   "cell_type": "markdown",
   "id": "3094e72f-0771-4479-b546-3e6a718281f0",
   "metadata": {},
   "source": [
    "Use /b for the beginning or end of a word and /B for the middle of a word:"
   ]
  },
  {
   "cell_type": "code",
   "execution_count": 30,
   "id": "e78f992e-ef99-49ce-90c8-887cad475222",
   "metadata": {},
   "outputs": [
    {
     "data": {
      "text/plain": [
       "<re.Match object; span=(0, 2), match='an'>"
      ]
     },
     "execution_count": 30,
     "metadata": {},
     "output_type": "execute_result"
    }
   ],
   "source": [
    "re.search(r\"\\ban\", \"animals can stand on land\")"
   ]
  },
  {
   "cell_type": "code",
   "execution_count": 31,
   "id": "d8fc0329-e531-4c8e-b4bd-e5617823d24a",
   "metadata": {},
   "outputs": [
    {
     "data": {
      "text/plain": [
       "<re.Match object; span=(9, 11), match='an'>"
      ]
     },
     "execution_count": 31,
     "metadata": {},
     "output_type": "execute_result"
    }
   ],
   "source": [
    "re.search(r\"an\\b\", \"animals can stand on land\")"
   ]
  },
  {
   "cell_type": "code",
   "execution_count": 32,
   "id": "109add91-1ef0-4e35-a170-0bd072561690",
   "metadata": {},
   "outputs": [
    {
     "data": {
      "text/plain": [
       "['an', 'an', 'an']"
      ]
     },
     "execution_count": 32,
     "metadata": {},
     "output_type": "execute_result"
    }
   ],
   "source": [
    "re.findall(r\"\\Ban\", \"animals can stand on land\")"
   ]
  },
  {
   "cell_type": "code",
   "execution_count": 33,
   "id": "2d638985-84a5-4f19-886e-134c0f31f527",
   "metadata": {},
   "outputs": [
    {
     "data": {
      "text/plain": [
       "['an', 'an']"
      ]
     },
     "execution_count": 33,
     "metadata": {},
     "output_type": "execute_result"
    }
   ],
   "source": [
    "re.findall(r\"\\Ban\\B\", \"animals can stand on land\")"
   ]
  },
  {
   "cell_type": "code",
   "execution_count": 34,
   "id": "52f4c5ad-77ad-4241-9fde-b58217e8e59b",
   "metadata": {},
   "outputs": [
    {
     "data": {
      "text/plain": [
       "['99', '99', '99']"
      ]
     },
     "execution_count": 34,
     "metadata": {},
     "output_type": "execute_result"
    }
   ],
   "source": [
    "re.findall(r\"\\b99\\b\", \"There were 999 people at the 99 and my order was $8.99 and yours was $99\")"
   ]
  },
  {
   "cell_type": "markdown",
   "id": "911df858-d98c-456a-83cd-aecadbd882fa",
   "metadata": {},
   "source": [
    "##### Disjunction, grouping, precedence"
   ]
  },
  {
   "cell_type": "markdown",
   "id": "eebdeb3e-5b71-4e77-9903-87f1bfadb18f",
   "metadata": {},
   "source": [
    "Use the pipe as an OR operator:"
   ]
  },
  {
   "cell_type": "code",
   "execution_count": 37,
   "id": "4a65e6d2-c79b-4949-958c-c28e57bba5da",
   "metadata": {},
   "outputs": [
    {
     "data": {
      "text/plain": [
       "['cat', 'dog']"
      ]
     },
     "execution_count": 37,
     "metadata": {},
     "output_type": "execute_result"
    }
   ],
   "source": [
    "re.findall(\"cat|dog\", \"it's raining cats and dogs\")"
   ]
  },
  {
   "cell_type": "markdown",
   "id": "f6493023-4bc9-409b-808e-bfbe3835926f",
   "metadata": {},
   "source": [
    "Use parathesis to control the order of operations (note '?:' is added for the findall function specifically to use a non-capturing group):"
   ]
  },
  {
   "cell_type": "code",
   "execution_count": 38,
   "id": "5dc5b22c-4483-40b8-b793-7ff685fc7887",
   "metadata": {},
   "outputs": [
    {
     "data": {
      "text/plain": [
       "['puppy', 'puppies']"
      ]
     },
     "execution_count": 38,
     "metadata": {},
     "output_type": "execute_result"
    }
   ],
   "source": [
    "re.findall(r\"pupp(?:y|ies)\", \"puppy or puppies?\")"
   ]
  },
  {
   "cell_type": "markdown",
   "id": "d32c1fb5-66ce-443b-86e8-71d26e3a5fdb",
   "metadata": {},
   "source": [
    "Use groups to specify repeats of longer patterns:"
   ]
  },
  {
   "cell_type": "code",
   "execution_count": 39,
   "id": "ec42d2f5-fad0-48c2-bf36-8b3472d7bb14",
   "metadata": {},
   "outputs": [
    {
     "data": {
      "text/plain": [
       "<re.Match object; span=(0, 9), match='Column 1 '>"
      ]
     },
     "execution_count": 39,
     "metadata": {},
     "output_type": "execute_result"
    }
   ],
   "source": [
    "re.search(r\"Column [0-9]+ *\", \"Column 1 Column 2 Column 3\")"
   ]
  },
  {
   "cell_type": "code",
   "execution_count": 40,
   "id": "0864f472-f08c-47bc-a24b-2c43ecadca59",
   "metadata": {},
   "outputs": [
    {
     "data": {
      "text/plain": [
       "<re.Match object; span=(0, 26), match='Column 1 Column 2 Column 3'>"
      ]
     },
     "execution_count": 40,
     "metadata": {},
     "output_type": "execute_result"
    }
   ],
   "source": [
    "re.search(r\"(Column [0-9]+ *)*\", \"Column 1 Column 2 Column 3\")"
   ]
  },
  {
   "cell_type": "markdown",
   "id": "c39309a8-eac5-4e39-983a-3f5ec4e74b72",
   "metadata": {},
   "source": [
    "This is due to the order of operations precedence order:\n",
    "1. Parenthesis: ()\n",
    "1. Counters: * + ? {}\n",
    "1. Sequences and anchors: the ^my end.$\n",
    "1. Disjunction: |\n",
    "\n",
    "Regex matchers typically behave in a greedy way, in that ambiguous patterns like \\[a-z]* will try to match the largest string they can.  \n",
    "There are ways to enforce non-greedy matching by adding a question mark to a metacharacter, like *? or +?:"
   ]
  },
  {
   "cell_type": "code",
   "execution_count": 41,
   "id": "22d3ef36-6e4d-47ee-a56b-16ceb2db8f4b",
   "metadata": {},
   "outputs": [
    {
     "data": {
      "text/plain": [
       "<re.Match object; span=(0, 12), match='alllowercase'>"
      ]
     },
     "execution_count": 41,
     "metadata": {},
     "output_type": "execute_result"
    }
   ],
   "source": [
    "re.search(r\"[a-z]*\", \"alllowercase\")"
   ]
  },
  {
   "cell_type": "code",
   "execution_count": 42,
   "id": "fc1583da-9619-4d3f-a9d3-ad12650604cc",
   "metadata": {},
   "outputs": [
    {
     "data": {
      "text/plain": [
       "<re.Match object; span=(0, 0), match=''>"
      ]
     },
     "execution_count": 42,
     "metadata": {},
     "output_type": "execute_result"
    }
   ],
   "source": [
    "re.search(r\"[a-z]*?\", \"alllowercase\")"
   ]
  },
  {
   "cell_type": "markdown",
   "id": "dd3ff003-b046-46ad-a291-13017bc3ded1",
   "metadata": {},
   "source": [
    "##### Special Sequences and Other Operators\n",
    "\n",
    "Since the python string escape character '\\\\' plays such a pivotal role in regex, it is a good idea to use raw strings to avoid confusing escaping syntax:"
   ]
  },
  {
   "cell_type": "code",
   "execution_count": 43,
   "id": "c6eb7ebb-c067-45f4-a679-dbb8ceed5c59",
   "metadata": {},
   "outputs": [
    {
     "name": "stdout",
     "output_type": "stream",
     "text": [
      "first_digit: 1\n",
      "first_non_digit: l\n",
      "first_alphanumeric: W\n",
      "first_non_alphanumeric: !\n",
      "first_whitespace:  \n",
      "first_non_whitespace: h\n"
     ]
    }
   ],
   "source": [
    "answer_dict = {}\n",
    "answer_dict['first_digit'] = re.search(r\"\\d\", \"count to 1,234\").group(0)\n",
    "answer_dict['first_non_digit'] = re.search(r\"\\D\", \"20000lbs\").group(0)\n",
    "answer_dict['first_alphanumeric'] = re.search(r\"\\w\", \"!!!???What?!\").group(0)\n",
    "answer_dict['first_non_alphanumeric'] = re.search(r\"\\W\", \"What!!!???\").group(0)\n",
    "answer_dict['first_whitespace'] = re.search(r\"\\s\", \"ok then\").group(0)\n",
    "answer_dict['first_non_whitespace'] = re.search(r\"\\S\", \"    hmm\").group(0)\n",
    "for key, val in answer_dict.items():\n",
    "    print(f\"{key}: {val}\")"
   ]
  },
  {
   "cell_type": "markdown",
   "id": "eabbc719-0f4b-4ae8-a507-15f39aab1b74",
   "metadata": {},
   "source": [
    "Equivalent long-hand patterns:"
   ]
  },
  {
   "cell_type": "code",
   "execution_count": 44,
   "id": "e98e0745-a1c2-4bad-ac77-aba7259de102",
   "metadata": {},
   "outputs": [
    {
     "data": {
      "text/plain": [
       "True"
      ]
     },
     "execution_count": 44,
     "metadata": {},
     "output_type": "execute_result"
    }
   ],
   "source": [
    "alt_answer_dict = {}\n",
    "alt_answer_dict['first_digit'] = re.search(r\"[0-9]\", \"count to 1,234\").group(0)\n",
    "alt_answer_dict['first_non_digit'] = re.search(r\"[^0-9]\", \"20000lbs\").group(0)\n",
    "alt_answer_dict['first_alphanumeric'] = re.search(r\"[a-zA-Z0-9_]\", \"!!!???What?!\").group(0)\n",
    "alt_answer_dict['first_non_alphanumeric'] = re.search(r\"[^\\w]\", \"What!!!???\").group(0)\n",
    "alt_answer_dict['first_whitespace'] = re.search(r\"[ \\r\\t\\n\\f]\", \"ok then\").group(0)\n",
    "alt_answer_dict['first_non_whitespace'] = re.search(r\"[^\\s]\", \"    hmm\").group(0)\n",
    "\n",
    "answer_dict == alt_answer_dict"
   ]
  },
  {
   "cell_type": "markdown",
   "id": "a8787d1c-face-4bcb-b313-560eda9edfe1",
   "metadata": {},
   "source": [
    "Specifying a number range:"
   ]
  },
  {
   "cell_type": "code",
   "execution_count": 45,
   "id": "b0a56a73-436d-44a8-84b6-30394ce01040",
   "metadata": {},
   "outputs": [
    {
     "name": "stdout",
     "output_type": "stream",
     "text": [
      "<re.Match object; span=(4, 8), match='....'>\n"
     ]
    }
   ],
   "source": [
    "exactly_four_dots = re.search(r\"\\.{4}\", \"okay.......\")\n",
    "print(exactly_four_dots)"
   ]
  },
  {
   "cell_type": "code",
   "execution_count": 46,
   "id": "f9380f27-3092-4a85-92ba-62d82688cac8",
   "metadata": {},
   "outputs": [
    {
     "name": "stdout",
     "output_type": "stream",
     "text": [
      "['--', '---', '----']\n"
     ]
    }
   ],
   "source": [
    "two_to_four_dashes = re.findall(r\"-{2,4}\", \"Hi--um---what----the?\")\n",
    "print(two_to_four_dashes)"
   ]
  },
  {
   "cell_type": "code",
   "execution_count": 47,
   "id": "ff8736cb-830c-46fe-8fb8-a3b5ad491d15",
   "metadata": {},
   "outputs": [
    {
     "name": "stdout",
     "output_type": "stream",
     "text": [
      "<re.Match object; span=(1, 5), match='tttt'>\n"
     ]
    }
   ],
   "source": [
    "at_least_two_ts = re.search(r\"t{2,}\", \"Tttttsk!\")\n",
    "print(at_least_two_ts)"
   ]
  },
  {
   "cell_type": "code",
   "execution_count": 48,
   "id": "09d9f39f-77fb-4b0f-ba05-3cba13ee1a9d",
   "metadata": {},
   "outputs": [
    {
     "name": "stdout",
     "output_type": "stream",
     "text": [
      "<re.Match object; span=(0, 2), match='mm'>\n"
     ]
    }
   ],
   "source": [
    "no_more_than_two_ms = re.search(r\"m{,2}\", \"mmmmm\")\n",
    "print(no_more_than_two_ms)"
   ]
  },
  {
   "cell_type": "markdown",
   "id": "5bd1ac11-34eb-4901-8d95-76ca481cf711",
   "metadata": {},
   "source": [
    "Whitespace:"
   ]
  },
  {
   "cell_type": "code",
   "execution_count": 49,
   "id": "7d0bca97-6e62-42b0-a4d0-c7286b491b80",
   "metadata": {},
   "outputs": [
    {
     "name": "stdout",
     "output_type": "stream",
     "text": [
      "<re.Match object; span=(5, 6), match='\\n'>\n",
      "<re.Match object; span=(12, 13), match='\\t'>\n"
     ]
    }
   ],
   "source": [
    "text = \"\"\"To be\n",
    "or not\tto be\"\"\"\n",
    "newline = re.search(r\"\\n\", text)\n",
    "tab = re.search(r\"\\t\", text)\n",
    "print(newline)\n",
    "print(tab)"
   ]
  },
  {
   "cell_type": "markdown",
   "id": "b721cd52-e97e-484e-bf2d-6d80fe81f01d",
   "metadata": {},
   "source": [
    "##### More complex examples"
   ]
  },
  {
   "cell_type": "code",
   "execution_count": 61,
   "id": "2147ff0d-fd7d-4b2a-83a9-df43161ae405",
   "metadata": {},
   "outputs": [
    {
     "name": "stdout",
     "output_type": "stream",
     "text": [
      "[<re.Match object; span=(51, 58), match='$999.99'>, None, <re.Match object; span=(48, 59), match='$9999999.99'>, None]\n"
     ]
    }
   ],
   "source": [
    "pcs = [\"6GHz processor with a 500 gigabytes hard drive for $999.99\",\n",
    "       \"6GHz processor with a 500.5 GB hard drive for $999\"]\n",
    "bogus = [\"6GHz processor with a 1000000 GB hard drive for $9999999.99\",\n",
    "         \"6GHz processor with a GB hard drive for $\"]\n",
    "naive_price = [re.search(r\"\\$[0-9]+\\.[0-9][0-9]\", t) for t in pcs + bogus]\n",
    "print(naive_price)"
   ]
  },
  {
   "cell_type": "code",
   "execution_count": 62,
   "id": "fea96cc3-7724-4410-b10a-27436ff70816",
   "metadata": {},
   "outputs": [
    {
     "name": "stdout",
     "output_type": "stream",
     "text": [
      "[<re.Match object; span=(50, 58), match=' $999.99'>, <re.Match object; span=(45, 50), match=' $999'>, <re.Match object; span=(47, 59), match=' $9999999.99'>, None]\n"
     ]
    }
   ],
   "source": [
    "too_big_price = [re.search(r\"(^|\\W)\\$[0-9]+(\\.[0-9][0-9])?\\b\", t) for t in pcs + bogus]\n",
    "print(too_big_price)"
   ]
  },
  {
   "cell_type": "code",
   "execution_count": 63,
   "id": "18ee1a86-f393-4479-9fd7-ef53fb75d5f5",
   "metadata": {},
   "outputs": [
    {
     "name": "stdout",
     "output_type": "stream",
     "text": [
      "[<re.Match object; span=(50, 58), match=' $999.99'>, <re.Match object; span=(45, 50), match=' $999'>, None, None]\n"
     ]
    }
   ],
   "source": [
    "reasonable_price = [re.search(r\"(^|\\W)\\$[0-9]{2,4}(\\.[0-9][0-9])?\\b\", t) for t in pcs + bogus]\n",
    "print(reasonable_price)"
   ]
  },
  {
   "cell_type": "code",
   "execution_count": 64,
   "id": "fddbef00-d074-411c-9aac-5a43db980e90",
   "metadata": {},
   "outputs": [
    {
     "name": "stdout",
     "output_type": "stream",
     "text": [
      "[<re.Match object; span=(22, 35), match='500 gigabytes'>, <re.Match object; span=(22, 30), match='500.5 GB'>, None, None]\n"
     ]
    }
   ],
   "source": [
    "reasonable_gb = [re.search(r\"\\b[0-9]{1,4}(\\.[0-9]+)? *(GB|[Gg]igabytes?)\", t) for t in pcs + bogus]\n",
    "print(reasonable_gb)"
   ]
  },
  {
   "cell_type": "markdown",
   "id": "54b53af7-7982-40e2-8314-2e2b5d400675",
   "metadata": {},
   "source": [
    "##### Substitutions, Capture Groups, and Lookaheads"
   ]
  },
  {
   "cell_type": "code",
   "execution_count": 82,
   "id": "95a7e219-507a-4be9-9bf8-915d85ffe29b",
   "metadata": {},
   "outputs": [
    {
     "name": "stdout",
     "output_type": "stream",
     "text": [
      "the color brown\n"
     ]
    }
   ],
   "source": [
    "substitution = re.sub(\"colour\", \"color\", \"the colour brown\")\n",
    "print(substitution)"
   ]
  },
  {
   "cell_type": "code",
   "execution_count": 83,
   "id": "a1f48c09-51f0-4c95-9d83-c908d8248507",
   "metadata": {},
   "outputs": [
    {
     "name": "stdout",
     "output_type": "stream",
     "text": [
      "numbers like <25> should be wrapped in angle brackets\n"
     ]
    }
   ],
   "source": [
    "referenced_group = re.sub(r\"([0-9]+)\", r\"<\\1>\", \"numbers like 25 should be wrapped in angle brackets\")\n",
    "print(referenced_group)"
   ]
  },
  {
   "cell_type": "code",
   "execution_count": 84,
   "id": "233171b2-d7a6-4c32-9981-620852694b10",
   "metadata": {},
   "outputs": [
    {
     "data": {
      "text/plain": [
       "<re.Match object; span=(0, 44), match='the bigger they are, the bigger they will be'>"
      ]
     },
     "execution_count": 84,
     "metadata": {},
     "output_type": "execute_result"
    }
   ],
   "source": [
    "capture_group = re.search(r\"the (.*)er they are, the \\1er they will be\", \"the bigger they are, the bigger they will be\")\n",
    "capture_group"
   ]
  },
  {
   "cell_type": "code",
   "execution_count": 85,
   "id": "bcb99c66-45fd-4f7f-bc9a-2ce65b13ff14",
   "metadata": {},
   "outputs": [
    {
     "data": {
      "text/plain": [
       "<re.Match object; span=(0, 38), match='the faster they are, the faster we are'>"
      ]
     },
     "execution_count": 85,
     "metadata": {},
     "output_type": "execute_result"
    }
   ],
   "source": [
    "two_groups = re.search(r\"the (.*)er they (.*), the \\1er we \\2\", \"the faster they are, the faster we are\")\n",
    "two_groups"
   ]
  },
  {
   "cell_type": "code",
   "execution_count": 86,
   "id": "c754fca1-f03b-4a2c-a908-8f2feb3b9cc5",
   "metadata": {},
   "outputs": [
    {
     "name": "stdout",
     "output_type": "stream",
     "text": [
      "<re.Match object; span=(0, 24), match='some cats like some cats'>\n"
     ]
    }
   ],
   "source": [
    "non_capturing = re.search(r\"(?:some|a few) (people|cats) like some \\1\", \"some cats like some cats\")\n",
    "print(non_capturing)"
   ]
  },
  {
   "cell_type": "code",
   "execution_count": 87,
   "id": "e51ee369-43fb-4da8-8011-af68861a16ac",
   "metadata": {},
   "outputs": [
    {
     "name": "stdout",
     "output_type": "stream",
     "text": [
      "None\n"
     ]
    }
   ],
   "source": [
    "wont_match = re.search(r\"(?:some|a few) (people|cats) like some \\1\", \"some cats like some some\")\n",
    "print(wont_match)"
   ]
  },
  {
   "cell_type": "code",
   "execution_count": 88,
   "id": "4e195822-2d31-4637-b6c5-3597eb3254ed",
   "metadata": {},
   "outputs": [
    {
     "name": "stdout",
     "output_type": "stream",
     "text": [
      "None\n"
     ]
    }
   ],
   "source": [
    "also_wont_match = re.search(r\"(?:some|a few) (people|cats) like some \\1\", \"some cats like some people\")\n",
    "print(wont_match)"
   ]
  },
  {
   "cell_type": "code",
   "execution_count": 94,
   "id": "5e9da97b-68d3-41a2-abbd-460866c137ba",
   "metadata": {},
   "outputs": [
    {
     "data": {
      "text/plain": [
       "'All cute cats are great in their own unique cute cat way.'"
      ]
     },
     "execution_count": 94,
     "metadata": {},
     "output_type": "execute_result"
    }
   ],
   "source": [
    "lookahead_example = re.sub(r\"(?=\\b[Cc]ats?\\b)\", r\"cute \", \"All cats are great in their own unique cat way.\")\n",
    "lookahead_example"
   ]
  },
  {
   "cell_type": "code",
   "execution_count": 101,
   "id": "2eb5aff7-d3c4-4b8e-9dd9-b73948f0dcff",
   "metadata": {},
   "outputs": [
    {
     "data": {
      "text/plain": [
       "'...hey ...um ...where ...are ...you ...go---? Move!'"
      ]
     },
     "execution_count": 101,
     "metadata": {},
     "output_type": "execute_result"
    }
   ],
   "source": [
    "negative_lookahead = re.sub(r\"(?!Move!)(\\b[A-Za-z]+\\b)\", r\"...\\1\", \"hey um where are you go---? Move!\")\n",
    "negative_lookahead"
   ]
  }
 ],
 "metadata": {
  "kernelspec": {
   "display_name": "Python 3 (ipykernel)",
   "language": "python",
   "name": "python3"
  },
  "language_info": {
   "codemirror_mode": {
    "name": "ipython",
    "version": 3
   },
   "file_extension": ".py",
   "mimetype": "text/x-python",
   "name": "python",
   "nbconvert_exporter": "python",
   "pygments_lexer": "ipython3",
   "version": "3.11.11"
  }
 },
 "nbformat": 4,
 "nbformat_minor": 5
}
