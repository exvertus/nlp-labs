{
 "cells": [
  {
   "cell_type": "markdown",
   "id": "bf46c453-f682-42c5-9484-748d1220900c",
   "metadata": {},
   "source": [
    "## Chapter 2\n",
    "### Exercises"
   ]
  },
  {
   "cell_type": "code",
   "execution_count": 2,
   "id": "0dea5ae0-42dc-48f4-b812-c9aead2d54c7",
   "metadata": {},
   "outputs": [],
   "source": [
    "import re"
   ]
  },
  {
   "cell_type": "markdown",
   "id": "36f5d810-a50d-4bf7-aa04-5ecb3c569553",
   "metadata": {},
   "source": [
    "##### 2.1 Write regular expressions for the following:\n",
    "1. the set of all alphabetic strings"
   ]
  },
  {
   "cell_type": "code",
   "execution_count": 3,
   "id": "ba1f0740-b403-49f5-9a1b-bf0ebda57abf",
   "metadata": {},
   "outputs": [
    {
     "data": {
      "text/plain": [
       "True"
      ]
     },
     "execution_count": 3,
     "metadata": {},
     "output_type": "execute_result"
    }
   ],
   "source": [
    "only_alphabetics = r\"^[A-Za-z]+$\"\n",
    "assertions = (\n",
    "    re.search(only_alphabetics, \"hello\"),\n",
    "    not re.search(only_alphabetics, \"hello!\"),\n",
    "    not re.search(only_alphabetics, \"hello world!\"),\n",
    "    not re.search(only_alphabetics, \"\"),\n",
    "    re.search(only_alphabetics, \"HelloWorld\"),\n",
    "    not re.search(only_alphabetics, \"123\"),\n",
    "    not re.search(only_alphabetics, \"hello123\")\n",
    ")\n",
    "all(assertions)"
   ]
  },
  {
   "cell_type": "markdown",
   "id": "295512ee-1214-465f-a292-a890270943ba",
   "metadata": {},
   "source": [
    "2. the set of all lower case alphabetic strings ending in a *b*"
   ]
  },
  {
   "cell_type": "code",
   "execution_count": 4,
   "id": "6ad7fb0b-b094-42df-9266-ca97c30a70aa",
   "metadata": {},
   "outputs": [
    {
     "data": {
      "text/plain": [
       "True"
      ]
     },
     "execution_count": 4,
     "metadata": {},
     "output_type": "execute_result"
    }
   ],
   "source": [
    "lowercase_ending_in_b = r\"^[a-z]*b$\"\n",
    "assertions = (\n",
    "    re.search(lowercase_ending_in_b, \"fab\"),\n",
    "    re.search(lowercase_ending_in_b, \"b\"),\n",
    "    re.search(lowercase_ending_in_b, \"bbbbbb\"),\n",
    "    re.search(lowercase_ending_in_b, \"hellob\"),\n",
    "    not re.search(lowercase_ending_in_b, \"\"),\n",
    "    not re.search(lowercase_ending_in_b, \"endswith!b\"),\n",
    "    not re.search(lowercase_ending_in_b, \"bbB\")\n",
    ")\n",
    "all(assertions)"
   ]
  },
  {
   "cell_type": "markdown",
   "id": "f0d931be-852c-4d7a-846a-f9e5366f57ad",
   "metadata": {},
   "source": [
    "3. the set of all strings from the alphabet *a,b* such that each *a* is immediately preceded by and immediately followed by a *b*"
   ]
  },
  {
   "cell_type": "code",
   "execution_count": 34,
   "id": "e259c23e-192f-44b5-a2f1-3ac5c8341e69",
   "metadata": {},
   "outputs": [
    {
     "data": {
      "text/plain": [
       "True"
      ]
     },
     "execution_count": 34,
     "metadata": {},
     "output_type": "execute_result"
    }
   ],
   "source": [
    "only_a_wrapped_in_bs = r\"^b*(bab*)*b$\"\n",
    "assertions = (\n",
    "    re.search(only_a_wrapped_in_bs, \"bab\"),\n",
    "    re.search(only_a_wrapped_in_bs, \"b\"),\n",
    "    re.search(only_a_wrapped_in_bs, \"bbbbbb\"),\n",
    "    re.search(only_a_wrapped_in_bs, \"bababab\"),\n",
    "    not re.search(only_a_wrapped_in_bs, \"\"),\n",
    "    not re.search(only_a_wrapped_in_bs, \"a\"),\n",
    "    not re.search(only_a_wrapped_in_bs, \"bbba\"),\n",
    "    not re.search(only_a_wrapped_in_bs, \"abbab\"),\n",
    "    not re.search(only_a_wrapped_in_bs, \"babba\"),\n",
    "    not re.search(only_a_wrapped_in_bs, \"baab\"),\n",
    "    not re.search(only_a_wrapped_in_bs, \"c\")\n",
    ")\n",
    "all(assertions)"
   ]
  },
  {
   "cell_type": "markdown",
   "id": "bf840be3-ac48-48d6-a4c7-e1b4b8f17e33",
   "metadata": {},
   "source": [
    "##### 2.2 Write regular expressions for the following. By \"word\", we mean an alphabetic string separated from other words by whitespace, any relevant punctuation, line breaks, and so forth.\n",
    "1. the set of all strings with two consecutive repeated words (e.g. \"Humbert Humbert\" and \"the the\" but not \"the bug\" or \"the big bug\")"
   ]
  },
  {
   "cell_type": "code",
   "execution_count": 42,
   "id": "cbffd7cf-37cd-413e-8c0d-1cdf01492ed2",
   "metadata": {},
   "outputs": [
    {
     "data": {
      "text/plain": [
       "True"
      ]
     },
     "execution_count": 42,
     "metadata": {},
     "output_type": "execute_result"
    }
   ],
   "source": [
    "consecutive_words = r\"^([A-Za-z]*)[\\s]\\1$\"\n",
    "assertions = (\n",
    "    re.search(consecutive_words, \"test test\"),\n",
    "    re.search(consecutive_words, \"here here\"),\n",
    "    re.search(consecutive_words, \"I I\"),\n",
    "    not re.search(consecutive_words, \"two words two words\"),\n",
    "    not re.search(consecutive_words, \"I'm just a normal sentence\"),\n",
    "    not re.search(consecutive_words, \"I am what I am\"),\n",
    "    not re.search(consecutive_words, \"hear ye hear ye\"),\n",
    ")\n",
    "all(assertions)"
   ]
  },
  {
   "cell_type": "markdown",
   "id": "799137e7-919d-40a3-82b1-64fc2225cd88",
   "metadata": {},
   "source": [
    "2. all strings that start at the beginning of the line with an integer and that end at the end of the line with a word"
   ]
  },
  {
   "cell_type": "code",
   "execution_count": 43,
   "id": "59037519-5e18-466e-9498-184940186def",
   "metadata": {},
   "outputs": [
    {
     "data": {
      "text/plain": [
       "True"
      ]
     },
     "execution_count": 43,
     "metadata": {},
     "output_type": "execute_result"
    }
   ],
   "source": [
    "start_int_end_word = r\"^[\\d].*[A-Za-z]+$\"\n",
    "assertions = (\n",
    "    re.search(start_int_end_word, \"1ets start with an int and end with a word\"),\n",
    "    re.search(start_int_end_word, \"1234test\"),\n",
    "    not re.search(start_int_end_word, \"ends with a word but doesn't start with an int\"),\n",
    "    not re.search(start_int_end_word, \"5tarts with an int but doesn't end in a word!@\"),\n",
    "    not re.search(start_int_end_word, \"almost but backwards 999\")\n",
    ")\n",
    "all(assertions)"
   ]
  },
  {
   "cell_type": "markdown",
   "id": "14783752-bca5-47d2-a650-38b420615da5",
   "metadata": {},
   "source": [
    "3. all strings that have both the word *grotto* and the word *raven* in them (but not, e.g., words like *grottos* that merely *contain* the word *grotto*)"
   ]
  },
  {
   "cell_type": "code",
   "execution_count": 49,
   "id": "e4f0679b-c69c-4768-afe0-3ae9fd32e60c",
   "metadata": {},
   "outputs": [
    {
     "data": {
      "text/plain": [
       "True"
      ]
     },
     "execution_count": 49,
     "metadata": {},
     "output_type": "execute_result"
    }
   ],
   "source": [
    "grotto_and_raven = r\"(\\bgrotto\\b|\\braven\\b).*(\\bgrotto\\b|\\braven\\b)\"\n",
    "assertions = (\n",
    "    re.search(grotto_and_raven, \"The raven flew out of the grotto.\"),\n",
    "    re.search(grotto_and_raven, \"The grotto and the raven were both dark.\"),\n",
    "    not re.search(grotto_and_raven, \"Several ravens flew out of the grottos.\"),\n",
    "    not re.search(grotto_and_raven, \"We have a raven.\"),\n",
    "    not re.search(grotto_and_raven, \"He is in the grotto at the top of the hill.\")\n",
    ")\n",
    "all(assertions)"
   ]
  },
  {
   "cell_type": "markdown",
   "id": "8fbe830b-183e-4f45-b482-eb55183dc7e2",
   "metadata": {},
   "source": [
    "4. write a pattern that places the first word of an English sentence in a register. Deal with punctuation."
   ]
  },
  {
   "cell_type": "code",
   "execution_count": null,
   "id": "c0e91f8b-1c54-44a0-8ed8-f718a9bc410e",
   "metadata": {},
   "outputs": [],
   "source": []
  },
  {
   "cell_type": "markdown",
   "id": "84e3c361-9d6c-4d5a-8458-9dc1cf7ed197",
   "metadata": {},
   "source": [
    "##### 2.3 Implement an ELIZA-like program, using substitutions such as those described on page 9. You might want to choose a different domain than a Rogerian psychologist, although keep in mind that you would need a domain in which your program can legitimately engage in a lot of simple repetition."
   ]
  },
  {
   "cell_type": "code",
   "execution_count": null,
   "id": "0a2b1167-2e29-461c-ba4a-40a3bb230cd8",
   "metadata": {},
   "outputs": [],
   "source": []
  },
  {
   "cell_type": "markdown",
   "id": "326b461f-a573-4495-a077-f0e9a93be760",
   "metadata": {},
   "source": [
    "##### 2.4 Compute the edit distance (using insertion costs 1, deletion cost 1, substitution cost 1) of \"leda\" to \"deal\". Show your work (using the edit distance grid)."
   ]
  },
  {
   "cell_type": "code",
   "execution_count": null,
   "id": "c5338ded-0db7-4f8a-a5d4-604a226f5b77",
   "metadata": {},
   "outputs": [],
   "source": []
  },
  {
   "cell_type": "markdown",
   "id": "f1e3ce64-5d46-4e79-88dd-0787f6185dc6",
   "metadata": {},
   "source": [
    "##### 2.5 Figure out whether *drive* is closer to *brief* or to *divers* and what the edit distance is to each. You may use any version of *distance* that you like."
   ]
  },
  {
   "cell_type": "code",
   "execution_count": null,
   "id": "b9ac3ac6-605c-4ddc-8fee-7e1e72bc5c19",
   "metadata": {},
   "outputs": [],
   "source": []
  },
  {
   "cell_type": "markdown",
   "id": "55f41116-6dda-4bd5-a0e5-4052ebe12904",
   "metadata": {},
   "source": [
    "##### 2.6 Now implement a minimum edit distance algorithm and use your hand-computed results to check your code."
   ]
  },
  {
   "cell_type": "code",
   "execution_count": null,
   "id": "c8d3721e-1d89-4595-bd48-949474525414",
   "metadata": {},
   "outputs": [],
   "source": []
  },
  {
   "cell_type": "markdown",
   "id": "7acc5e7b-5bfd-4741-92ba-98dadc8f581e",
   "metadata": {},
   "source": [
    "##### 2.7 Augment the minimum edit distance algorithm to output an alignment; you will need to store points and add a stage to compute the backtrace."
   ]
  },
  {
   "cell_type": "code",
   "execution_count": null,
   "id": "87560071-f5bb-45ef-9c73-0c6d5879aa6b",
   "metadata": {},
   "outputs": [],
   "source": []
  },
  {
   "cell_type": "code",
   "execution_count": null,
   "id": "a27ce0ff-95ed-4be3-80a4-34252e56811e",
   "metadata": {},
   "outputs": [],
   "source": []
  }
 ],
 "metadata": {
  "kernelspec": {
   "display_name": "Python 3 (ipykernel)",
   "language": "python",
   "name": "python3"
  },
  "language_info": {
   "codemirror_mode": {
    "name": "ipython",
    "version": 3
   },
   "file_extension": ".py",
   "mimetype": "text/x-python",
   "name": "python",
   "nbconvert_exporter": "python",
   "pygments_lexer": "ipython3",
   "version": "3.11.11"
  }
 },
 "nbformat": 4,
 "nbformat_minor": 5
}
