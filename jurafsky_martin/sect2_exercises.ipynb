{
 "cells": [
  {
   "cell_type": "markdown",
   "id": "bf46c453-f682-42c5-9484-748d1220900c",
   "metadata": {},
   "source": [
    "## Chapter 2\n",
    "### Exercises"
   ]
  },
  {
   "cell_type": "markdown",
   "id": "36f5d810-a50d-4bf7-aa04-5ecb3c569553",
   "metadata": {},
   "source": [
    "##### 2.1 Write regular expressions for the following languages.\n",
    "1. the set of all alphabetic strings\n",
    "1. the set of all lower case alphabetic strings ending in a *b*\n",
    "1. the set of all string from the alphabet a, b such that each a is immediately preceded by and immediately followed by a *b*"
   ]
  },
  {
   "cell_type": "code",
   "execution_count": null,
   "id": "e259c23e-192f-44b5-a2f1-3ac5c8341e69",
   "metadata": {},
   "outputs": [],
   "source": []
  },
  {
   "cell_type": "markdown",
   "id": "bf840be3-ac48-48d6-a4c7-e1b4b8f17e33",
   "metadata": {},
   "source": [
    "##### 2.2"
   ]
  },
  {
   "cell_type": "code",
   "execution_count": null,
   "id": "cbffd7cf-37cd-413e-8c0d-1cdf01492ed2",
   "metadata": {},
   "outputs": [],
   "source": []
  }
 ],
 "metadata": {
  "kernelspec": {
   "display_name": "Python 3 (ipykernel)",
   "language": "python",
   "name": "python3"
  },
  "language_info": {
   "codemirror_mode": {
    "name": "ipython",
    "version": 3
   },
   "file_extension": ".py",
   "mimetype": "text/x-python",
   "name": "python",
   "nbconvert_exporter": "python",
   "pygments_lexer": "ipython3",
   "version": "3.11.11"
  }
 },
 "nbformat": 4,
 "nbformat_minor": 5
}
