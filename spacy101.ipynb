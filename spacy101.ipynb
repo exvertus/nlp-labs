{
 "cells": [
  {
   "cell_type": "code",
   "execution_count": 1,
   "id": "ed79a8b4-5f82-4de6-acd0-12c1e8eb31a3",
   "metadata": {},
   "outputs": [],
   "source": [
    "import spacy"
   ]
  },
  {
   "cell_type": "markdown",
   "id": "fa9cc8ed-c0d7-4e65-bd5b-8224a40a4752",
   "metadata": {},
   "source": [
    "Basic tokenization using smallest CPU-based model:  \n",
    "(use python -m spacy download {model_name})"
   ]
  },
  {
   "cell_type": "code",
   "execution_count": 3,
   "id": "47c0e086-a45a-4812-8110-f7c0752afaed",
   "metadata": {},
   "outputs": [
    {
     "name": "stdout",
     "output_type": "stream",
     "text": [
      "('Apple', 'PROPN', 'nsubj')\n",
      "('is', 'AUX', 'aux')\n",
      "('looking', 'VERB', 'ROOT')\n",
      "('at', 'ADP', 'prep')\n",
      "('buying', 'VERB', 'pcomp')\n",
      "('U.K.', 'PROPN', 'dobj')\n",
      "('startup', 'NOUN', 'dep')\n",
      "('for', 'ADP', 'prep')\n",
      "('$', 'SYM', 'quantmod')\n",
      "('1', 'NUM', 'compound')\n",
      "('billion', 'NUM', 'pobj')\n"
     ]
    }
   ],
   "source": [
    "nlp = spacy.load(\"en_core_web_sm\")\n",
    "doc = nlp(\"Apple is looking at buying U.K. startup for $1 billion\")\n",
    "for token in doc:\n",
    "    print((token.text, token.pos_, token.dep_))"
   ]
  },
  {
   "cell_type": "code",
   "execution_count": 4,
   "id": "4ff16580-7df9-4247-840c-b2a7a4dab87b",
   "metadata": {},
   "outputs": [
    {
     "name": "stdout",
     "output_type": "stream",
     "text": [
      "text: Apple, lemma: Apple, pos: PROPN, tag: NNP, dep: nsubj, shape: Xxxxx, is_alpha: True, is_stop: False\n",
      "text: is, lemma: be, pos: AUX, tag: VBZ, dep: aux, shape: xx, is_alpha: True, is_stop: True\n",
      "text: looking, lemma: look, pos: VERB, tag: VBG, dep: ROOT, shape: xxxx, is_alpha: True, is_stop: False\n",
      "text: at, lemma: at, pos: ADP, tag: IN, dep: prep, shape: xx, is_alpha: True, is_stop: True\n",
      "text: buying, lemma: buy, pos: VERB, tag: VBG, dep: pcomp, shape: xxxx, is_alpha: True, is_stop: False\n",
      "text: U.K., lemma: U.K., pos: PROPN, tag: NNP, dep: dobj, shape: X.X., is_alpha: False, is_stop: False\n",
      "text: startup, lemma: startup, pos: NOUN, tag: NN, dep: dep, shape: xxxx, is_alpha: True, is_stop: False\n",
      "text: for, lemma: for, pos: ADP, tag: IN, dep: prep, shape: xxx, is_alpha: True, is_stop: True\n",
      "text: $, lemma: $, pos: SYM, tag: $, dep: quantmod, shape: $, is_alpha: False, is_stop: False\n",
      "text: 1, lemma: 1, pos: NUM, tag: CD, dep: compound, shape: d, is_alpha: False, is_stop: False\n",
      "text: billion, lemma: billion, pos: NUM, tag: CD, dep: pobj, shape: xxxx, is_alpha: True, is_stop: False\n"
     ]
    }
   ],
   "source": [
    "for token in doc:\n",
    "    print(f\"text: {token.text}, lemma: {token.lemma_}, pos: {token.pos_}, tag: {token.tag_}, dep: {token.dep_}, shape: {token.shape_}, is_alpha: {token.is_alpha}, is_stop: {token.is_stop}\")"
   ]
  },
  {
   "cell_type": "markdown",
   "id": "5e9bdc95-f32b-48de-bf6d-a37fcb36c6ec",
   "metadata": {},
   "source": [
    "Dependency parse tree:"
   ]
  },
  {
   "cell_type": "code",
   "execution_count": 5,
   "id": "878cfa85-5c28-4b6a-8731-10b594c05c1c",
   "metadata": {},
   "outputs": [
    {
     "data": {
      "text/html": [
       "<span class=\"tex2jax_ignore\"><svg xmlns=\"http://www.w3.org/2000/svg\" xmlns:xlink=\"http://www.w3.org/1999/xlink\" xml:lang=\"en\" id=\"3e2c4f35d5f24f119ae6415453206907-0\" class=\"displacy\" width=\"1975\" height=\"399.5\" direction=\"ltr\" style=\"max-width: none; height: 399.5px; color: #000000; background: #ffffff; font-family: Arial; direction: ltr\">\n",
       "<text class=\"displacy-token\" fill=\"currentColor\" text-anchor=\"middle\" y=\"309.5\">\n",
       "    <tspan class=\"displacy-word\" fill=\"currentColor\" x=\"50\">Apple</tspan>\n",
       "    <tspan class=\"displacy-tag\" dy=\"2em\" fill=\"currentColor\" x=\"50\">PROPN</tspan>\n",
       "</text>\n",
       "\n",
       "<text class=\"displacy-token\" fill=\"currentColor\" text-anchor=\"middle\" y=\"309.5\">\n",
       "    <tspan class=\"displacy-word\" fill=\"currentColor\" x=\"225\">is</tspan>\n",
       "    <tspan class=\"displacy-tag\" dy=\"2em\" fill=\"currentColor\" x=\"225\">AUX</tspan>\n",
       "</text>\n",
       "\n",
       "<text class=\"displacy-token\" fill=\"currentColor\" text-anchor=\"middle\" y=\"309.5\">\n",
       "    <tspan class=\"displacy-word\" fill=\"currentColor\" x=\"400\">looking</tspan>\n",
       "    <tspan class=\"displacy-tag\" dy=\"2em\" fill=\"currentColor\" x=\"400\">VERB</tspan>\n",
       "</text>\n",
       "\n",
       "<text class=\"displacy-token\" fill=\"currentColor\" text-anchor=\"middle\" y=\"309.5\">\n",
       "    <tspan class=\"displacy-word\" fill=\"currentColor\" x=\"575\">at</tspan>\n",
       "    <tspan class=\"displacy-tag\" dy=\"2em\" fill=\"currentColor\" x=\"575\">ADP</tspan>\n",
       "</text>\n",
       "\n",
       "<text class=\"displacy-token\" fill=\"currentColor\" text-anchor=\"middle\" y=\"309.5\">\n",
       "    <tspan class=\"displacy-word\" fill=\"currentColor\" x=\"750\">buying</tspan>\n",
       "    <tspan class=\"displacy-tag\" dy=\"2em\" fill=\"currentColor\" x=\"750\">VERB</tspan>\n",
       "</text>\n",
       "\n",
       "<text class=\"displacy-token\" fill=\"currentColor\" text-anchor=\"middle\" y=\"309.5\">\n",
       "    <tspan class=\"displacy-word\" fill=\"currentColor\" x=\"925\">U.K.</tspan>\n",
       "    <tspan class=\"displacy-tag\" dy=\"2em\" fill=\"currentColor\" x=\"925\">PROPN</tspan>\n",
       "</text>\n",
       "\n",
       "<text class=\"displacy-token\" fill=\"currentColor\" text-anchor=\"middle\" y=\"309.5\">\n",
       "    <tspan class=\"displacy-word\" fill=\"currentColor\" x=\"1100\">startup</tspan>\n",
       "    <tspan class=\"displacy-tag\" dy=\"2em\" fill=\"currentColor\" x=\"1100\">NOUN</tspan>\n",
       "</text>\n",
       "\n",
       "<text class=\"displacy-token\" fill=\"currentColor\" text-anchor=\"middle\" y=\"309.5\">\n",
       "    <tspan class=\"displacy-word\" fill=\"currentColor\" x=\"1275\">for</tspan>\n",
       "    <tspan class=\"displacy-tag\" dy=\"2em\" fill=\"currentColor\" x=\"1275\">ADP</tspan>\n",
       "</text>\n",
       "\n",
       "<text class=\"displacy-token\" fill=\"currentColor\" text-anchor=\"middle\" y=\"309.5\">\n",
       "    <tspan class=\"displacy-word\" fill=\"currentColor\" x=\"1450\">$</tspan>\n",
       "    <tspan class=\"displacy-tag\" dy=\"2em\" fill=\"currentColor\" x=\"1450\">SYM</tspan>\n",
       "</text>\n",
       "\n",
       "<text class=\"displacy-token\" fill=\"currentColor\" text-anchor=\"middle\" y=\"309.5\">\n",
       "    <tspan class=\"displacy-word\" fill=\"currentColor\" x=\"1625\">1</tspan>\n",
       "    <tspan class=\"displacy-tag\" dy=\"2em\" fill=\"currentColor\" x=\"1625\">NUM</tspan>\n",
       "</text>\n",
       "\n",
       "<text class=\"displacy-token\" fill=\"currentColor\" text-anchor=\"middle\" y=\"309.5\">\n",
       "    <tspan class=\"displacy-word\" fill=\"currentColor\" x=\"1800\">billion</tspan>\n",
       "    <tspan class=\"displacy-tag\" dy=\"2em\" fill=\"currentColor\" x=\"1800\">NUM</tspan>\n",
       "</text>\n",
       "\n",
       "<g class=\"displacy-arrow\">\n",
       "    <path class=\"displacy-arc\" id=\"arrow-3e2c4f35d5f24f119ae6415453206907-0-0\" stroke-width=\"2px\" d=\"M70,264.5 C70,89.5 395.0,89.5 395.0,264.5\" fill=\"none\" stroke=\"currentColor\"/>\n",
       "    <text dy=\"1.25em\" style=\"font-size: 0.8em; letter-spacing: 1px\">\n",
       "        <textPath xlink:href=\"#arrow-3e2c4f35d5f24f119ae6415453206907-0-0\" class=\"displacy-label\" startOffset=\"50%\" side=\"left\" fill=\"currentColor\" text-anchor=\"middle\">nsubj</textPath>\n",
       "    </text>\n",
       "    <path class=\"displacy-arrowhead\" d=\"M70,266.5 L62,254.5 78,254.5\" fill=\"currentColor\"/>\n",
       "</g>\n",
       "\n",
       "<g class=\"displacy-arrow\">\n",
       "    <path class=\"displacy-arc\" id=\"arrow-3e2c4f35d5f24f119ae6415453206907-0-1\" stroke-width=\"2px\" d=\"M245,264.5 C245,177.0 390.0,177.0 390.0,264.5\" fill=\"none\" stroke=\"currentColor\"/>\n",
       "    <text dy=\"1.25em\" style=\"font-size: 0.8em; letter-spacing: 1px\">\n",
       "        <textPath xlink:href=\"#arrow-3e2c4f35d5f24f119ae6415453206907-0-1\" class=\"displacy-label\" startOffset=\"50%\" side=\"left\" fill=\"currentColor\" text-anchor=\"middle\">aux</textPath>\n",
       "    </text>\n",
       "    <path class=\"displacy-arrowhead\" d=\"M245,266.5 L237,254.5 253,254.5\" fill=\"currentColor\"/>\n",
       "</g>\n",
       "\n",
       "<g class=\"displacy-arrow\">\n",
       "    <path class=\"displacy-arc\" id=\"arrow-3e2c4f35d5f24f119ae6415453206907-0-2\" stroke-width=\"2px\" d=\"M420,264.5 C420,177.0 565.0,177.0 565.0,264.5\" fill=\"none\" stroke=\"currentColor\"/>\n",
       "    <text dy=\"1.25em\" style=\"font-size: 0.8em; letter-spacing: 1px\">\n",
       "        <textPath xlink:href=\"#arrow-3e2c4f35d5f24f119ae6415453206907-0-2\" class=\"displacy-label\" startOffset=\"50%\" side=\"left\" fill=\"currentColor\" text-anchor=\"middle\">prep</textPath>\n",
       "    </text>\n",
       "    <path class=\"displacy-arrowhead\" d=\"M565.0,266.5 L573.0,254.5 557.0,254.5\" fill=\"currentColor\"/>\n",
       "</g>\n",
       "\n",
       "<g class=\"displacy-arrow\">\n",
       "    <path class=\"displacy-arc\" id=\"arrow-3e2c4f35d5f24f119ae6415453206907-0-3\" stroke-width=\"2px\" d=\"M595,264.5 C595,177.0 740.0,177.0 740.0,264.5\" fill=\"none\" stroke=\"currentColor\"/>\n",
       "    <text dy=\"1.25em\" style=\"font-size: 0.8em; letter-spacing: 1px\">\n",
       "        <textPath xlink:href=\"#arrow-3e2c4f35d5f24f119ae6415453206907-0-3\" class=\"displacy-label\" startOffset=\"50%\" side=\"left\" fill=\"currentColor\" text-anchor=\"middle\">pcomp</textPath>\n",
       "    </text>\n",
       "    <path class=\"displacy-arrowhead\" d=\"M740.0,266.5 L748.0,254.5 732.0,254.5\" fill=\"currentColor\"/>\n",
       "</g>\n",
       "\n",
       "<g class=\"displacy-arrow\">\n",
       "    <path class=\"displacy-arc\" id=\"arrow-3e2c4f35d5f24f119ae6415453206907-0-4\" stroke-width=\"2px\" d=\"M770,264.5 C770,177.0 915.0,177.0 915.0,264.5\" fill=\"none\" stroke=\"currentColor\"/>\n",
       "    <text dy=\"1.25em\" style=\"font-size: 0.8em; letter-spacing: 1px\">\n",
       "        <textPath xlink:href=\"#arrow-3e2c4f35d5f24f119ae6415453206907-0-4\" class=\"displacy-label\" startOffset=\"50%\" side=\"left\" fill=\"currentColor\" text-anchor=\"middle\">dobj</textPath>\n",
       "    </text>\n",
       "    <path class=\"displacy-arrowhead\" d=\"M915.0,266.5 L923.0,254.5 907.0,254.5\" fill=\"currentColor\"/>\n",
       "</g>\n",
       "\n",
       "<g class=\"displacy-arrow\">\n",
       "    <path class=\"displacy-arc\" id=\"arrow-3e2c4f35d5f24f119ae6415453206907-0-5\" stroke-width=\"2px\" d=\"M420,264.5 C420,89.5 1095.0,89.5 1095.0,264.5\" fill=\"none\" stroke=\"currentColor\"/>\n",
       "    <text dy=\"1.25em\" style=\"font-size: 0.8em; letter-spacing: 1px\">\n",
       "        <textPath xlink:href=\"#arrow-3e2c4f35d5f24f119ae6415453206907-0-5\" class=\"displacy-label\" startOffset=\"50%\" side=\"left\" fill=\"currentColor\" text-anchor=\"middle\">dep</textPath>\n",
       "    </text>\n",
       "    <path class=\"displacy-arrowhead\" d=\"M1095.0,266.5 L1103.0,254.5 1087.0,254.5\" fill=\"currentColor\"/>\n",
       "</g>\n",
       "\n",
       "<g class=\"displacy-arrow\">\n",
       "    <path class=\"displacy-arc\" id=\"arrow-3e2c4f35d5f24f119ae6415453206907-0-6\" stroke-width=\"2px\" d=\"M1120,264.5 C1120,177.0 1265.0,177.0 1265.0,264.5\" fill=\"none\" stroke=\"currentColor\"/>\n",
       "    <text dy=\"1.25em\" style=\"font-size: 0.8em; letter-spacing: 1px\">\n",
       "        <textPath xlink:href=\"#arrow-3e2c4f35d5f24f119ae6415453206907-0-6\" class=\"displacy-label\" startOffset=\"50%\" side=\"left\" fill=\"currentColor\" text-anchor=\"middle\">prep</textPath>\n",
       "    </text>\n",
       "    <path class=\"displacy-arrowhead\" d=\"M1265.0,266.5 L1273.0,254.5 1257.0,254.5\" fill=\"currentColor\"/>\n",
       "</g>\n",
       "\n",
       "<g class=\"displacy-arrow\">\n",
       "    <path class=\"displacy-arc\" id=\"arrow-3e2c4f35d5f24f119ae6415453206907-0-7\" stroke-width=\"2px\" d=\"M1470,264.5 C1470,89.5 1795.0,89.5 1795.0,264.5\" fill=\"none\" stroke=\"currentColor\"/>\n",
       "    <text dy=\"1.25em\" style=\"font-size: 0.8em; letter-spacing: 1px\">\n",
       "        <textPath xlink:href=\"#arrow-3e2c4f35d5f24f119ae6415453206907-0-7\" class=\"displacy-label\" startOffset=\"50%\" side=\"left\" fill=\"currentColor\" text-anchor=\"middle\">quantmod</textPath>\n",
       "    </text>\n",
       "    <path class=\"displacy-arrowhead\" d=\"M1470,266.5 L1462,254.5 1478,254.5\" fill=\"currentColor\"/>\n",
       "</g>\n",
       "\n",
       "<g class=\"displacy-arrow\">\n",
       "    <path class=\"displacy-arc\" id=\"arrow-3e2c4f35d5f24f119ae6415453206907-0-8\" stroke-width=\"2px\" d=\"M1645,264.5 C1645,177.0 1790.0,177.0 1790.0,264.5\" fill=\"none\" stroke=\"currentColor\"/>\n",
       "    <text dy=\"1.25em\" style=\"font-size: 0.8em; letter-spacing: 1px\">\n",
       "        <textPath xlink:href=\"#arrow-3e2c4f35d5f24f119ae6415453206907-0-8\" class=\"displacy-label\" startOffset=\"50%\" side=\"left\" fill=\"currentColor\" text-anchor=\"middle\">compound</textPath>\n",
       "    </text>\n",
       "    <path class=\"displacy-arrowhead\" d=\"M1645,266.5 L1637,254.5 1653,254.5\" fill=\"currentColor\"/>\n",
       "</g>\n",
       "\n",
       "<g class=\"displacy-arrow\">\n",
       "    <path class=\"displacy-arc\" id=\"arrow-3e2c4f35d5f24f119ae6415453206907-0-9\" stroke-width=\"2px\" d=\"M1295,264.5 C1295,2.0 1800.0,2.0 1800.0,264.5\" fill=\"none\" stroke=\"currentColor\"/>\n",
       "    <text dy=\"1.25em\" style=\"font-size: 0.8em; letter-spacing: 1px\">\n",
       "        <textPath xlink:href=\"#arrow-3e2c4f35d5f24f119ae6415453206907-0-9\" class=\"displacy-label\" startOffset=\"50%\" side=\"left\" fill=\"currentColor\" text-anchor=\"middle\">pobj</textPath>\n",
       "    </text>\n",
       "    <path class=\"displacy-arrowhead\" d=\"M1800.0,266.5 L1808.0,254.5 1792.0,254.5\" fill=\"currentColor\"/>\n",
       "</g>\n",
       "</svg></span>"
      ],
      "text/plain": [
       "<IPython.core.display.HTML object>"
      ]
     },
     "metadata": {},
     "output_type": "display_data"
    }
   ],
   "source": [
    "spacy.displacy.render(doc, style=\"dep\")"
   ]
  },
  {
   "cell_type": "markdown",
   "id": "3ef62062-a102-4dc4-9add-eae281cdc6c6",
   "metadata": {},
   "source": [
    "Named entities get split off into their own property:\n",
    "(GPE = Geopolitical entity)"
   ]
  },
  {
   "cell_type": "code",
   "execution_count": 6,
   "id": "6cbd561e-7a21-491b-a0ca-16afb8924de5",
   "metadata": {},
   "outputs": [
    {
     "name": "stdout",
     "output_type": "stream",
     "text": [
      "('Apple', 0, 5, 'ORG')\n",
      "('U.K.', 27, 31, 'GPE')\n",
      "('$1 billion', 44, 54, 'MONEY')\n"
     ]
    }
   ],
   "source": [
    "for ent in doc.ents:\n",
    "    print((ent.text, ent.start_char, ent.end_char, ent.label_))"
   ]
  },
  {
   "cell_type": "code",
   "execution_count": 7,
   "id": "9b210c23-e17c-4106-a496-619ecebc90d8",
   "metadata": {},
   "outputs": [
    {
     "data": {
      "text/html": [
       "<span class=\"tex2jax_ignore\"><div class=\"entities\" style=\"line-height: 2.5; direction: ltr\">\n",
       "<mark class=\"entity\" style=\"background: #7aecec; padding: 0.45em 0.6em; margin: 0 0.25em; line-height: 1; border-radius: 0.35em;\">\n",
       "    Apple\n",
       "    <span style=\"font-size: 0.8em; font-weight: bold; line-height: 1; border-radius: 0.35em; vertical-align: middle; margin-left: 0.5rem\">ORG</span>\n",
       "</mark>\n",
       " is looking at buying \n",
       "<mark class=\"entity\" style=\"background: #feca74; padding: 0.45em 0.6em; margin: 0 0.25em; line-height: 1; border-radius: 0.35em;\">\n",
       "    U.K.\n",
       "    <span style=\"font-size: 0.8em; font-weight: bold; line-height: 1; border-radius: 0.35em; vertical-align: middle; margin-left: 0.5rem\">GPE</span>\n",
       "</mark>\n",
       " startup for \n",
       "<mark class=\"entity\" style=\"background: #e4e7d2; padding: 0.45em 0.6em; margin: 0 0.25em; line-height: 1; border-radius: 0.35em;\">\n",
       "    $1 billion\n",
       "    <span style=\"font-size: 0.8em; font-weight: bold; line-height: 1; border-radius: 0.35em; vertical-align: middle; margin-left: 0.5rem\">MONEY</span>\n",
       "</mark>\n",
       "</div></span>"
      ],
      "text/plain": [
       "<IPython.core.display.HTML object>"
      ]
     },
     "metadata": {},
     "output_type": "display_data"
    }
   ],
   "source": [
    "spacy.displacy.render(doc, style=\"ent\")"
   ]
  },
  {
   "cell_type": "markdown",
   "id": "7613ddf7-37fa-411a-8a5e-7503f3fd5f42",
   "metadata": {},
   "source": [
    "Word vectors (L2 norm shown):"
   ]
  },
  {
   "cell_type": "code",
   "execution_count": 8,
   "id": "08130414-e5e3-4de5-997f-f22762f8a147",
   "metadata": {},
   "outputs": [
    {
     "name": "stdout",
     "output_type": "stream",
     "text": [
      "('dog', True, 75.254234, False)\n",
      "('cat', True, 63.188496, False)\n",
      "('banana', True, 31.620354, False)\n",
      "('afskfsd', False, 0.0, True)\n"
     ]
    }
   ],
   "source": [
    "nlp = spacy.load(\"en_core_web_md\")\n",
    "tokens = nlp(\"dog cat banana afskfsd\")\n",
    "\n",
    "for token in tokens:\n",
    "    print((token.text, token.has_vector, token.vector_norm, token.is_oov))"
   ]
  },
  {
   "cell_type": "markdown",
   "id": "24b7ec73-17ff-4333-bbff-cd73e64f9456",
   "metadata": {},
   "source": [
    "Similarity: A .similarity method is provided for Doc, Span, Token, and Lexeme objects."
   ]
  },
  {
   "cell_type": "code",
   "execution_count": 9,
   "id": "7f579268-ac7c-4690-bf25-5e4d78edb740",
   "metadata": {},
   "outputs": [
    {
     "name": "stdout",
     "output_type": "stream",
     "text": [
      "I like salty fries and hamburgers. <-> Fast food tastes very good. 0.691649353055761\n"
     ]
    }
   ],
   "source": [
    "doc1 = nlp(\"I like salty fries and hamburgers.\")\n",
    "doc2 = nlp(\"Fast food tastes very good.\")\n",
    "print(doc1, \"<->\", doc2, doc1.similarity(doc2))"
   ]
  },
  {
   "cell_type": "code",
   "execution_count": 10,
   "id": "c2d84f0b-00f7-4fd8-8771-fd9cba5e650d",
   "metadata": {},
   "outputs": [
    {
     "name": "stdout",
     "output_type": "stream",
     "text": [
      "salty fries <-> hamburgers 0.6938489675521851\n"
     ]
    }
   ],
   "source": [
    "french_fries = doc1[2:4]\n",
    "burgers = doc1[5]\n",
    "print(french_fries, \"<->\", burgers, french_fries.similarity(burgers))"
   ]
  },
  {
   "cell_type": "code",
   "execution_count": 13,
   "id": "8b86d8d7-a749-46a7-9394-df65af45e60a",
   "metadata": {},
   "outputs": [
    {
     "data": {
      "text/plain": [
       "0.3279081881046295"
      ]
     },
     "execution_count": 13,
     "metadata": {},
     "output_type": "execute_result"
    }
   ],
   "source": [
    "doc1[4].similarity(doc2[3])"
   ]
  },
  {
   "cell_type": "code",
   "execution_count": 14,
   "id": "54af7607-d316-4aa2-9161-c9a1b53cdc1b",
   "metadata": {},
   "outputs": [
    {
     "name": "stdout",
     "output_type": "stream",
     "text": [
      "(-0.31665900349617004, ('you', ';'))\n"
     ]
    }
   ],
   "source": [
    "doc1 = nlp(\"If you're going through hell, keep going\")\n",
    "doc2 = nlp(\"Be yourself; everyone else is already taken.\")\n",
    "least_similar = (1.0, ('', ''))\n",
    "for token1 in doc1:\n",
    "    for token2 in doc2:\n",
    "        sim = token1.similarity(token2)\n",
    "        if sim < least_similar[0]:\n",
    "            least_similar = (sim, (token1.text, token2.text))\n",
    "print(least_similar)"
   ]
  },
  {
   "cell_type": "code",
   "execution_count": 18,
   "id": "85ab4a78-6684-4a7a-866b-37a7d69c43b1",
   "metadata": {},
   "outputs": [
    {
     "name": "stdout",
     "output_type": "stream",
     "text": [
      "you else 0.4331720471382141\n",
      "0.4331720471382141\n"
     ]
    }
   ],
   "source": [
    "print(f\"{doc1[1].text} {doc2[4].text} {doc1[1].similarity(doc2[4])}\")\n",
    "print(f\"{doc1[1].lex.similarity(doc2[4].lex)}\")"
   ]
  },
  {
   "cell_type": "markdown",
   "id": "8188fa9a-b21f-4bd5-aec0-7edfb9c38a65",
   "metadata": {},
   "source": [
    "The similarity score is based on token averages, where order does not matter. Therefore it is scores higher for similar words than it does similar meanings.  \n",
    "Consider [sense2vec](https://github.com/explosion/sense2vec) for more semantic and context sensitivity: [Demo blogpost](https://explosion.ai/blog/sense2vec-reloaded)"
   ]
  },
  {
   "cell_type": "markdown",
   "id": "787f41d4-6a94-4256-b1cd-1ed46230b105",
   "metadata": {},
   "source": [
    "To save space, data is stored in the vocab object (shared by documents) and uses unique hash values derived from each string."
   ]
  },
  {
   "cell_type": "code",
   "execution_count": 20,
   "id": "b44f47de-1182-4038-b4ab-987e4a7350ca",
   "metadata": {},
   "outputs": [
    {
     "name": "stdout",
     "output_type": "stream",
     "text": [
      "3197928453018144401\n",
      "coffee\n"
     ]
    }
   ],
   "source": [
    "doc = nlp(\"I love coffee\")\n",
    "print(doc.vocab.strings[\"coffee\"])\n",
    "print(doc.vocab.strings[3197928453018144401])"
   ]
  },
  {
   "cell_type": "code",
   "execution_count": 21,
   "id": "5e01281e-aa10-4fa7-b762-097a90b4e95f",
   "metadata": {},
   "outputs": [
    {
     "name": "stdout",
     "output_type": "stream",
     "text": [
      "I 4690420944186131903 X I I True False True en\n",
      "love 3702023516439754181 xxxx l ove True False False en\n",
      "coffee 3197928453018144401 xxxx c fee True False False en\n"
     ]
    }
   ],
   "source": [
    "for word in doc:\n",
    "    lexeme = doc.vocab[word.text]\n",
    "    print(lexeme.text, lexeme.orth, lexeme.shape_, lexeme.prefix_, lexeme.suffix_, lexeme.is_alpha, lexeme.is_digit, lexeme.is_title, lexeme.lang_)"
   ]
  },
  {
   "cell_type": "markdown",
   "id": "513704af-2d05-4328-8f3d-541fe2c983f9",
   "metadata": {},
   "source": [
    "The vocab object's hashes are only present if it has processed that word:  \n",
    "(If you want to restart a process with partial progress you'll have to save/load from a pickle file)"
   ]
  },
  {
   "cell_type": "code",
   "execution_count": 23,
   "id": "a34b58d1-51b0-406c-b3cb-3a7cee1a9442",
   "metadata": {},
   "outputs": [
    {
     "ename": "KeyError",
     "evalue": "\"[E018] Can't retrieve string for hash '3197928453018144401'. This usually refers to an issue with the `Vocab` or `StringStore`.\"",
     "output_type": "error",
     "traceback": [
      "\u001b[1;31m---------------------------------------------------------------------------\u001b[0m",
      "\u001b[1;31mKeyError\u001b[0m                                  Traceback (most recent call last)",
      "Cell \u001b[1;32mIn[23], line 5\u001b[0m\n\u001b[0;32m      2\u001b[0m \u001b[38;5;28;01mfrom\u001b[39;00m \u001b[38;5;21;01mspacy\u001b[39;00m\u001b[38;5;21;01m.\u001b[39;00m\u001b[38;5;21;01mvocab\u001b[39;00m \u001b[38;5;28;01mimport\u001b[39;00m Vocab\n\u001b[0;32m      4\u001b[0m empty_doc \u001b[38;5;241m=\u001b[39m Doc(Vocab())\n\u001b[1;32m----> 5\u001b[0m \u001b[38;5;28mprint\u001b[39m(\u001b[43mempty_doc\u001b[49m\u001b[38;5;241;43m.\u001b[39;49m\u001b[43mvocab\u001b[49m\u001b[38;5;241;43m.\u001b[39;49m\u001b[43mstrings\u001b[49m\u001b[43m[\u001b[49m\u001b[38;5;241;43m3197928453018144401\u001b[39;49m\u001b[43m]\u001b[49m)\n",
      "File \u001b[1;32m~\\AppData\\Roaming\\Python\\Python311\\site-packages\\spacy\\strings.pyx:160\u001b[0m, in \u001b[0;36mspacy.strings.StringStore.__getitem__\u001b[1;34m()\u001b[0m\n",
      "\u001b[1;31mKeyError\u001b[0m: \"[E018] Can't retrieve string for hash '3197928453018144401'. This usually refers to an issue with the `Vocab` or `StringStore`.\""
     ]
    }
   ],
   "source": [
    "from spacy.tokens import Doc\n",
    "from spacy.vocab import Vocab\n",
    "\n",
    "empty_doc = Doc(Vocab())\n",
    "print(empty_doc.vocab.strings[3197928453018144401]) # Errors"
   ]
  },
  {
   "cell_type": "code",
   "execution_count": 25,
   "id": "2df05b1d-1ea0-452c-b7ec-050b699172c8",
   "metadata": {},
   "outputs": [
    {
     "name": "stdout",
     "output_type": "stream",
     "text": [
      "coffee\n"
     ]
    }
   ],
   "source": [
    "empty_doc.vocab.strings.add(\"coffee\")\n",
    "print(empty_doc.vocab.strings[3197928453018144401])"
   ]
  },
  {
   "cell_type": "markdown",
   "id": "01d5e75f-1b9c-41a4-b288-fe610a9ab8ba",
   "metadata": {},
   "source": [
    "Provided doc objects share their vocab, you can use hash values that haven't been seen by that doc:"
   ]
  },
  {
   "cell_type": "code",
   "execution_count": 26,
   "id": "7d2c4229-b025-4913-a0a8-a1e162693722",
   "metadata": {},
   "outputs": [
    {
     "name": "stdout",
     "output_type": "stream",
     "text": [
      "coffee\n"
     ]
    }
   ],
   "source": [
    "new_doc_shared = Doc(doc.vocab)\n",
    "print(empty_doc.vocab.strings[3197928453018144401])"
   ]
  },
  {
   "cell_type": "markdown",
   "id": "13b13ac8-f135-45c8-8dfc-ed81c61d6dcc",
   "metadata": {},
   "source": [
    "Use nlp.to_disk and nlp.from_disk to pickle to pick up where you left off."
   ]
  },
  {
   "cell_type": "markdown",
   "id": "c9dcc31c-267e-45c3-a9bb-f6dc0a67de25",
   "metadata": {},
   "source": [
    "Spacy provides a framework for [training custom models](https://spacy.io/usage/training)"
   ]
  },
  {
   "cell_type": "markdown",
   "id": "ddef90c6-6969-474a-bee1-ddc625bbfd39",
   "metadata": {},
   "source": [
    "Contributing: Easier to solve bugs are listed with the [help wanted (easy)](https://github.com/explosion/spaCy/issues?q=is%3Aissue+is%3Aopen+label%3A%22help+wanted+%28easy%29%22) tag in github.  \n",
    "Doc and typo fixes are also encouraged."
   ]
  },
  {
   "cell_type": "markdown",
   "id": "c88af0ab-54cb-48f7-af3a-a98963b54512",
   "metadata": {},
   "source": [
    "Social Media tags and badges:  \n",
    "Twitter - tag [@spacy_io](https://x.com/spacy_io)  \n",
    "Bagdes - [![Built with spaCy](https://img.shields.io/badge/built%20with-spaCy-09a3d5.svg)](https://spacy.io)  \n",
    "         [![Made with love and spaCy](https://img.shields.io/badge/made%20with%20❤%20and-spaCy-09a3d5.svg)](https://spacy.io)  \n",
    "Can submit work to the [spaCy universe](https://spacy.io/universe/category/conversational) too."
   ]
  },
  {
   "cell_type": "code",
   "execution_count": null,
   "id": "1a952e3a-96ae-4b8c-9228-bdc485ded779",
   "metadata": {},
   "outputs": [],
   "source": []
  }
 ],
 "metadata": {
  "kernelspec": {
   "display_name": "Python 3 (ipykernel)",
   "language": "python",
   "name": "python3"
  },
  "language_info": {
   "codemirror_mode": {
    "name": "ipython",
    "version": 3
   },
   "file_extension": ".py",
   "mimetype": "text/x-python",
   "name": "python",
   "nbconvert_exporter": "python",
   "pygments_lexer": "ipython3",
   "version": "3.11.11"
  }
 },
 "nbformat": 4,
 "nbformat_minor": 5
}
